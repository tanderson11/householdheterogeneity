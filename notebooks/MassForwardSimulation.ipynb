{
  "cells": [
    {
      "cell_type": "markdown",
      "metadata": {
        "id": "DVNH5-KSBUlt"
      },
      "source": [
        "# Google Colab initialization\n",
        "\n",
        "This section will help you interface with Google Drive and clone the git repository where the code lives. These steps **aren't necessary if you are running locally**. First, make sure you have opened the notebook in Google Colab (use the below button if ncessary) and logged into your Google account.\n",
        "\n",
        "[![Open In Colab](https://colab.research.google.com/assets/colab-badge.svg)](https://githubtocolab.com/tanderson11/householdheterogeneity/blob/main/notebooks/MassForwardSimulation.ipynb)"
      ]
    },
    {
      "cell_type": "code",
      "execution_count": null,
      "metadata": {
        "colab": {
          "base_uri": "https://localhost:8080/"
        },
        "id": "ORzYVf06BhuU",
        "outputId": "ab5cf59a-cb47-460c-a328-8ed1a000f8ed"
      },
      "outputs": [
        {
          "name": "stdout",
          "output_type": "stream",
          "text": [
            "Drive already mounted at /content/gdrive; to attempt to forcibly remount, call drive.mount(\"/content/gdrive\", force_remount=True).\n"
          ]
        }
      ],
      "source": [
        "from google.colab import drive\n",
        "drive.mount('/content/gdrive')"
      ]
    },
    {
      "cell_type": "code",
      "execution_count": null,
      "metadata": {
        "colab": {
          "base_uri": "https://localhost:8080/"
        },
        "id": "I3fmCBmpDCZn",
        "outputId": "37104f44-4657-4a4a-ead7-f85600d5a085"
      },
      "outputs": [
        {
          "name": "stdout",
          "output_type": "stream",
          "text": [
            "mkdir: cannot create directory ‘/content/gdrive/My Drive/github/paper_push’: File exists\n",
            "/content/gdrive/My Drive/github/paper_push\n"
          ]
        }
      ],
      "source": [
        "%mkdir /content/gdrive/My\\ Drive/github/paper_push\n",
        "%cd /content/gdrive/My\\ Drive/github/paper_push"
      ]
    },
    {
      "cell_type": "code",
      "execution_count": null,
      "metadata": {
        "id": "J0qVcYVio4mo"
      },
      "outputs": [],
      "source": [
        "# If you've forked the repository, point to your own username and repository name (if different)\n",
        "repo_owner=\"tanderson11\"\n",
        "repository=\"householdheterogeneity\"\n",
        "\n",
        "!git config --global user.email \"tanderson11@gmail.com\"\n",
        "!git config --global user.name \"Thayer Anderson\""
      ]
    },
    {
      "cell_type": "code",
      "execution_count": null,
      "metadata": {
        "id": "4wBI8yq891xZ"
      },
      "outputs": [],
      "source": [
        "!git clone https://github.com/{repo_owner}/{repository}.git"
      ]
    },
    {
      "cell_type": "code",
      "execution_count": null,
      "metadata": {
        "colab": {
          "base_uri": "https://localhost:8080/"
        },
        "id": "bqQubdG6EpNl",
        "outputId": "ceb40e41-5ed4-4e13-bf3f-b4e90442ef33"
      },
      "outputs": [
        {
          "name": "stdout",
          "output_type": "stream",
          "text": [
            "/content/gdrive/My Drive/github/paper_push/covidhouseholds\n",
            "covidhouseholds  .gitignore\t  poetry.lock  pyproject.toml\n",
            "data\t\t  new_parameters  __pycache__  README.md\n",
            ".git\t\t  notebooks\t  .pylintrc    wheel.sh\n"
          ]
        }
      ],
      "source": [
        "%cd householdheterogeneity/\n",
        "!ls -a\n",
        "\n",
        "# >>> TOKEN SETUP: <<<\n",
        "# this will put your token in the right folder; comment this line out after use to avoid an error message\n",
        "#!mv ../git_token.py ./\n",
        "#!cp ../../householdheterogeneity/git_token.py ./\n",
        "\n",
        "#from git_token import git_token"
      ]
    },
    {
      "cell_type": "code",
      "execution_count": null,
      "metadata": {
        "colab": {
          "base_uri": "https://localhost:8080/"
        },
        "id": "FYatPc_m-Iwo",
        "outputId": "d160ac9e-ad17-49cd-c199-9fd246966dd7"
      },
      "outputs": [
        {
          "name": "stdout",
          "output_type": "stream",
          "text": [
            "M\twheel.sh\n",
            "Already on 'main'\n",
            "Your branch is up to date with 'origin/main'.\n",
            "remote: Enumerating objects: 7, done.\u001b[K\n",
            "remote: Counting objects: 100% (7/7), done.\u001b[K\n",
            "remote: Compressing objects: 100% (1/1), done.\u001b[K\n",
            "remote: Total 4 (delta 3), reused 4 (delta 3), pack-reused 0\u001b[K\n",
            "Unpacking objects: 100% (4/4), done.\n",
            "From https://github.com/tanderson11/covidhouseholds\n",
            "   5ffcddf..024f8fa  main       -> origin/main\n",
            "Updating 5ffcddf..024f8fa\n",
            "Fast-forward\n",
            " covidhouseholds/recipes.py | 4 \u001b[32m++\u001b[m\u001b[31m--\u001b[m\n",
            " 1 file changed, 2 insertions(+), 2 deletions(-)\n"
          ]
        }
      ],
      "source": [
        "!git checkout main\n",
        "!git pull"
      ]
    },
    {
      "cell_type": "code",
      "execution_count": null,
      "metadata": {},
      "outputs": [],
      "source": [
        "%cd ./notebooks"
      ]
    },
    {
      "cell_type": "markdown",
      "metadata": {},
      "source": [
        "# Package initialization"
      ]
    },
    {
      "cell_type": "code",
      "execution_count": 1,
      "metadata": {
        "colab": {
          "base_uri": "https://localhost:8080/"
        },
        "id": "bJP1Mq2YEtVX",
        "outputId": "d7450ad6-9e48-4868-f604-d52d6d63f148"
      },
      "outputs": [
        {
          "name": "stdout",
          "output_type": "stream",
          "text": [
            "/Users/thayer/develop/covidscratch/covid_households\n"
          ]
        }
      ],
      "source": [
        "# Initialization\n",
        "%cd ../\n",
        "import src.recipes as recipes\n",
        "import src.utilities as utilities"
      ]
    },
    {
      "cell_type": "markdown",
      "metadata": {
        "id": "BTlK2bCKzlFm"
      },
      "source": [
        "# Experiments"
      ]
    },
    {
      "cell_type": "code",
      "execution_count": null,
      "metadata": {
        "colab": {
          "base_uri": "https://localhost:8080/"
        },
        "id": "u5H8RI_MLQeI",
        "outputId": "57e070f0-f5d4-4f50-8b12-c6d59ab61a16"
      },
      "outputs": [
        {
          "data": {
            "text/plain": [
              "Model(state_lengths='lognormal', forward_simulation='gillespie', initial_seeding='seed one by susceptibility', importation=None, secondary_infections=True, intervention=None)"
            ]
          },
          "execution_count": 8,
          "metadata": {},
          "output_type": "execute_result"
        }
      ],
      "source": [
        "x = recipes.Model(state_lengths='lognormal')\n",
        "x"
      ]
    },
    {
      "cell_type": "code",
      "execution_count": null,
      "metadata": {
        "colab": {
          "base_uri": "https://localhost:8080/"
        },
        "id": "DnSTtajiLWdy",
        "outputId": "ea8fb1a9-0684-444a-99a1-fd9f35d79ca2"
      },
      "outputs": [
        {
          "data": {
            "text/plain": [
              "SimulationRegion(axes_by_name=OrderedDict([('s80', array([0.02])), ('p80', array([0.02, 0.04, 0.06, 0.08, 0.1 , 0.12, 0.14, 0.16, 0.18, 0.2 , 0.22,\n",
              "       0.24, 0.26, 0.28, 0.3 , 0.32, 0.34, 0.36, 0.38, 0.4 , 0.42, 0.44,\n",
              "       0.46, 0.48, 0.5 , 0.52, 0.54, 0.56, 0.58, 0.6 , 0.62, 0.64, 0.66,\n",
              "       0.68, 0.7 , 0.72, 0.74, 0.76, 0.78, 0.8 ])), ('SAR', array([0.01, 0.02, 0.03, 0.04, 0.05, 0.06, 0.07, 0.08, 0.09, 0.1 , 0.11,\n",
              "       0.12, 0.13, 0.14, 0.15, 0.16, 0.17, 0.18, 0.19, 0.2 , 0.21, 0.22,\n",
              "       0.23, 0.24, 0.25, 0.26, 0.27, 0.28, 0.29, 0.3 , 0.31, 0.32, 0.33,\n",
              "       0.34, 0.35, 0.36, 0.37, 0.38, 0.39, 0.4 , 0.41, 0.42, 0.43, 0.44,\n",
              "       0.45, 0.46, 0.47, 0.48, 0.49, 0.5 , 0.51, 0.52, 0.53, 0.54, 0.55,\n",
              "       0.56, 0.57, 0.58, 0.59, 0.6 ]))]), parameter_class=<class 'utilities.S80_P80_SAR_Inputs'>)"
            ]
          },
          "execution_count": 9,
          "metadata": {},
          "output_type": "execute_result"
        }
      ],
      "source": [
        "import numpy as np\n",
        "\n",
        "s80_axis = np.linspace(0.02, 0.02, 1)\n",
        "p80_axis = np.linspace(0.02, 0.80, 40)\n",
        "sar_axis = np.linspace(0.01, 0.60, 60)\n",
        "from typing import OrderedDict\n",
        "axes_by_key = OrderedDict({'s80':s80_axis, 'p80':p80_axis, 'SAR':sar_axis})\n",
        "\n",
        "region = recipes.SimulationRegion(axes_by_key, utilities.S80_P80_SAR_Inputs)\n",
        "region"
      ]
    },
    {
      "cell_type": "code",
      "execution_count": null,
      "metadata": {
        "id": "GKxzx22NLaOa"
      },
      "outputs": [],
      "source": [
        "rerun_index = True\n",
        "if not rerun_index:\n",
        "  import datetime\n",
        "  date_str = datetime.datetime.now().strftime(\"%m-%d-%H-%M\")\n",
        "  dir_name = f\"./new_parameters/experiment-{date_str}\"\n",
        "  !mkdir new_parameters/\n",
        "  !mkdir {dir_name}\n",
        "  results = x.run_grid({s:200000 for s in range(2,9)}, region, dir_name, use_crib=True)\n",
        "  results.save(dir_name, 'results')"
      ]
    },
    {
      "cell_type": "code",
      "execution_count": null,
      "metadata": {
        "colab": {
          "background_save": true,
          "base_uri": "https://localhost:8080/"
        },
        "id": "HNaB1whHYMy4",
        "outputId": "96c59d0c-3595-4fb3-8dcb-07e01b9eeacc"
      },
      "outputs": [
        {
          "name": "stdout",
          "output_type": "stream",
          "text": [
            "mkdir: cannot create directory ‘new_parameters/’: File exists\n"
          ]
        }
      ],
      "source": [
        "import pandas as pd\n",
        "import src.model_inputs as model_inputs\n",
        "if rerun_index:\n",
        "  index_frame = pd.read_csv('./data/indices_to_rerun.csv')\n",
        "  index = index_frame.set_index(['s80', 'p80', 'SAR']).index\n",
        "\n",
        "  import datetime\n",
        "  date_str = datetime.datetime.now().strftime(\"%m-%d-%H-%M\")\n",
        "  dir_name = f\"./new_parameters/experiment-{date_str}\"\n",
        "  !mkdir new_parameters/\n",
        "  !mkdir {dir_name}\n",
        "  results = x.run_index({s:200000 for s in range(2,9)}, index, model_inputs.S80_P80_SAR_Inputs, progress_path=dir_name, progress_frequency=1500, use_crib=True)\n",
        "  results.save(dir_name, 'results')"
      ]
    }
  ],
  "metadata": {
    "accelerator": "GPU",
    "colab": {
      "background_execution": "on",
      "collapsed_sections": [],
      "name": "MassForwardSimulation.ipynb",
      "provenance": []
    },
    "kernelspec": {
      "display_name": "Python 3.10.6 ('.venv': poetry)",
      "language": "python",
      "name": "python3"
    },
    "language_info": {
      "codemirror_mode": {
        "name": "ipython",
        "version": 3
      },
      "file_extension": ".py",
      "mimetype": "text/x-python",
      "name": "python",
      "nbconvert_exporter": "python",
      "pygments_lexer": "ipython3",
      "version": "3.10.13"
    },
    "vscode": {
      "interpreter": {
        "hash": "6e0418455f80b5f7c07ffd089975cbf09b69b8ff5f9769ad65d5982a17cefd6f"
      }
    }
  },
  "nbformat": 4,
  "nbformat_minor": 0
}
