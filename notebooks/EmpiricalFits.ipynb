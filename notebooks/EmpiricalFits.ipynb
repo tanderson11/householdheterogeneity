{
 "cells": [
  {
   "cell_type": "code",
   "execution_count": 1,
   "id": "7478c494",
   "metadata": {},
   "outputs": [
    {
     "name": "stdout",
     "output_type": "stream",
     "text": [
      "/Users/thayer/covid_households/covid_households\n"
     ]
    }
   ],
   "source": [
    "import numpy as np\n",
    "import os\n",
    "import pandas as pd\n",
    "import pyarrow.parquet as pq\n",
    "%cd ../covid_households\n",
    "import likelihood\n",
    "import recipes"
   ]
  },
  {
   "cell_type": "code",
   "execution_count": 4,
   "id": "3389ad1c",
   "metadata": {},
   "outputs": [
    {
     "data": {
      "text/plain": [
       "['s80', 'p80', 'SAR']"
      ]
     },
     "execution_count": 4,
     "metadata": {},
     "output_type": "execute_result"
    }
   ],
   "source": [
    "root = os.path.abspath(os.path.dirname(os.path.abspath('')))\n",
    "results = recipes.Results.load(os.path.join(root, 'new_parameters/gillespie-s80-p80-SAR/beta_corrections'))\n",
    "results.find_frequencies(inplace=True)\n",
    "\n",
    "keys = results.metadata.parameters\n",
    "keys"
   ]
  },
  {
   "cell_type": "code",
   "execution_count": 8,
   "id": "486d18b7",
   "metadata": {},
   "outputs": [
    {
     "data": {
      "text/plain": [
       "sample s80  sample p80  sample SAR  size  infections\n",
       "0.0         0.0         0.0         2     1             5526\n",
       "                                          2             1399\n",
       "                                    3     1             4523\n",
       "                                          2             1053\n",
       "                                          3              634\n",
       "                                    4     1             4854\n",
       "                                          2             1421\n",
       "                                          3              766\n",
       "                                          4              511\n",
       "                                    5     1             2845\n",
       "                                          2              668\n",
       "                                          3              455\n",
       "                                          4              284\n",
       "                                          5              228\n",
       "                                    6     1             1332\n",
       "                                          2              450\n",
       "                                          3              258\n",
       "                                          4              149\n",
       "                                          5              118\n",
       "                                          6              117\n",
       "                                    7     1              582\n",
       "                                          2              115\n",
       "                                          3               73\n",
       "                                          4               61\n",
       "                                          5               44\n",
       "                                          6               41\n",
       "                                          7               41\n",
       "                                    8     1              228\n",
       "                                          2               78\n",
       "                                          3               37\n",
       "                                          4               24\n",
       "                                          5               31\n",
       "                                          6               16\n",
       "                                          7               10\n",
       "                                          8               22\n",
       "Name: count, dtype: int64"
      ]
     },
     "execution_count": 8,
     "metadata": {},
     "output_type": "execute_result"
    }
   ],
   "source": [
    "# load the data as a pandas dataframe\n",
    "population_name = 'Ontario'\n",
    "if population_name == 'Ontario':\n",
    "    empirical_df = os.path.join(root, \"empirical/Ontario/empirical_df.parquet\")\n",
    "    empirical_df = pq.read_table(empirical_df).to_pandas()\n",
    "elif population_name == 'Bnei Brak':\n",
    "    dfs = []\n",
    "    n_random_dfs = 20\n",
    "    for i in range(n_random_dfs):\n",
    "        randomized_df_path = os.path.join(root, f\"empirical/BneiBrak/randomized_corrections/randomized_df{i}.parquet\")\n",
    "        randomized_df = pq.read_table(randomized_df_path).to_pandas()\n",
    "        dfs.append(randomized_df)\n",
    "    empirical_df = pd.concat(dfs)\n",
    "    print(empirical_df)\n",
    "    true_path = os.path.join(root, f\"empirical/BneiBrak/empirical_df.parquet\")\n",
    "    bnei_brak_true_hhs = pq.read_table(true_path).to_pandas()\n",
    "elif population_name == 'Geneva':\n",
    "    empirical_df = os.path.join(root, \"empirical/geneva/empirical_df.parquet\")\n",
    "    empirical_df = pq.read_table(empirical_df).to_pandas()\n",
    "else:\n",
    "    assert ValueError(\"population name is not recognized.\")\n",
    "\n",
    "# the infections column should be integer values\n",
    "empirical_df['infections'] = empirical_df['infections'].round(0)\n",
    "empirical_df = empirical_df.astype({'infections': 'int32', 'size': 'int32'})\n",
    "\n",
    "# for the different parameter values, we don't know their true value, so let's give them the dummy value of 0.\n",
    "for key in keys:\n",
    "    empirical_df[key] = 0.\n",
    "\n",
    "# turn the list of households into counts of the number of infections in different households\n",
    "empirical_counts = likelihood.counts_from_empirical(empirical_df, keys, sample_only_keys=[])\n",
    "\n",
    "if population_name == 'Bnei Brak':\n",
    "    empirical_counts = empirical_counts[empirical_counts.index.get_level_values('size') <= 8]\n",
    "    empirical_counts = empirical_counts / 20\n",
    "empirical_counts.tail(50)"
   ]
  },
  {
   "cell_type": "code",
   "execution_count": 9,
   "id": "b9b38aba",
   "metadata": {},
   "outputs": [
    {
     "data": {
      "text/plain": [
       "sample s80  sample p80  sample SAR  size  infections\n",
       "0.0         0.0         0.0         2     1             5526\n",
       "                                          2             1399\n",
       "                                    3     1             4523\n",
       "                                          2             1053\n",
       "                                          3              634\n",
       "                                    4     1             4854\n",
       "                                          2             1421\n",
       "                                          3              766\n",
       "                                          4              511\n",
       "                                    5     1             2845\n",
       "                                          2              668\n",
       "                                          3              455\n",
       "                                          4              284\n",
       "                                          5              228\n",
       "                                    6     1             1332\n",
       "                                          2              450\n",
       "                                          3              258\n",
       "                                          4              149\n",
       "                                          5              118\n",
       "                                          6              117\n",
       "                                    7     1              582\n",
       "                                          2              115\n",
       "                                          3               73\n",
       "                                          4               61\n",
       "                                          5               44\n",
       "                                          6               41\n",
       "                                          7               41\n",
       "                                    8     1              228\n",
       "                                          2               78\n",
       "                                          3               37\n",
       "                                          4               24\n",
       "                                          5               31\n",
       "                                          6               16\n",
       "                                          7               10\n",
       "                                          8               22\n",
       "Name: count, dtype: int64"
      ]
     },
     "execution_count": 9,
     "metadata": {},
     "output_type": "execute_result"
    }
   ],
   "source": [
    "empirical_counts"
   ]
  },
  {
   "cell_type": "markdown",
   "id": "c5112822",
   "metadata": {},
   "source": [
    "Sometimes for fun, we want to look at the best fit under a \"null hypothesis\" of no heterogeneity. In order to do that, we need to select the results of our simulations that have no heterogeneity ($s_{80} = p_{80} = 80\\%$)"
   ]
  },
  {
   "cell_type": "code",
   "execution_count": 41,
   "id": "fc480461",
   "metadata": {},
   "outputs": [
    {
     "data": {
      "text/plain": [
       "s80  p80  SAR   size  infections\n",
       "0.8  0.8  0.01  2     1             0.989690\n",
       "                      2             0.010310\n",
       "                3     1             0.979630\n",
       "                      2             0.019695\n",
       "                      3             0.000675\n",
       "                                      ...   \n",
       "          0.60  7     6             0.000035\n",
       "                      7             0.987150\n",
       "                8     1             0.007005\n",
       "                      2             0.000075\n",
       "                      8             0.992920\n",
       "Name: frequency, Length: 2060, dtype: float64"
      ]
     },
     "execution_count": 41,
     "metadata": {},
     "output_type": "execute_result"
    }
   ],
   "source": [
    "freq = results.df['frequency']\n",
    "s80_l = freq.index.get_level_values(0)\n",
    "p80_l = freq.index.get_level_values(1)\n",
    "\n",
    "null_freqs = freq[(s80_l == 0.8) & (p80_l == 0.8)]\n",
    "null_freqs"
   ]
  },
  {
   "cell_type": "markdown",
   "id": "3742b5d9",
   "metadata": {},
   "source": [
    "By default, the log likelihood is held in a `Series` of log likelihood values organized around a 4-level index. The first index represent which empirical trial corresponds to that section of data. The next three parameters correspond to the parameter values at which we are estimating the likelihood (ie the model parameters)."
   ]
  },
  {
   "cell_type": "code",
   "execution_count": 42,
   "id": "cd0cc3e7",
   "metadata": {},
   "outputs": [
    {
     "data": {
      "text/plain": [
       "s80   p80   SAR \n",
       "0.02  0.02  0.01   -346.625253\n",
       "            0.02   -296.931989\n",
       "            0.03   -268.127814\n",
       "            0.04   -248.615774\n",
       "            0.05   -233.777164\n",
       "                       ...    \n",
       "0.80  0.80  0.56   -295.407097\n",
       "            0.57   -302.084845\n",
       "            0.58   -308.923853\n",
       "            0.59   -314.681996\n",
       "            0.60   -321.918397\n",
       "Name: logl, Length: 96000, dtype: float64"
      ]
     },
     "execution_count": 42,
     "metadata": {},
     "output_type": "execute_result"
    }
   ],
   "source": [
    "# calculate the log likelihood using the table of frequencies calculated over many households and the empirical counts from the dataset\n",
    "logl = likelihood.logl_from_frequencies_and_counts(results.df['frequency'], empirical_counts, keys)\n",
    "# by default indexed by a 'trial' index, but there is only one trial (the 0th) because this is a single dataset\n",
    "logl = logl.loc[0]\n",
    "logl"
   ]
  },
  {
   "cell_type": "code",
   "execution_count": 43,
   "id": "cd9ce4b8",
   "metadata": {},
   "outputs": [
    {
     "data": {
      "text/plain": [
       "s80   p80   SAR \n",
       "0.18  0.04  0.26    0.000551\n",
       "0.14  0.04  0.26    0.000540\n",
       "0.18  0.02  0.26    0.000531\n",
       "0.10  0.04  0.28    0.000520\n",
       "0.12  0.02  0.26    0.000518\n",
       "Name: logl, dtype: float64"
      ]
     },
     "execution_count": 43,
     "metadata": {},
     "output_type": "execute_result"
    }
   ],
   "source": [
    "# \"profile\" likelihood: looking at fixing two parameters at the MLE and trying to get 95% confidence in the last one\n",
    "in_95 = likelihood.normalize_probability(logl).sort_values(ascending=False).head()\n",
    "in_95\n",
    "#s80s = list(zip(*[i for i in in_95]))\n",
    "#plt.hist(s80s)"
   ]
  },
  {
   "cell_type": "markdown",
   "id": "f9a8a075",
   "metadata": {},
   "source": [
    "The parameters of the maximum likelihood estimate are easy to obtain by just finding the maximum value in the table of likelihood values."
   ]
  },
  {
   "cell_type": "code",
   "execution_count": 44,
   "id": "39bedec2",
   "metadata": {},
   "outputs": [
    {
     "data": {
      "text/plain": [
       "(['s80', 'p80', 'SAR'], (0.18, 0.04, 0.26))"
      ]
     },
     "execution_count": 44,
     "metadata": {},
     "output_type": "execute_result"
    }
   ],
   "source": [
    "mle = logl.idxmax()\n",
    "keys, mle"
   ]
  },
  {
   "cell_type": "code",
   "execution_count": 45,
   "id": "b8aff69e",
   "metadata": {},
   "outputs": [
    {
     "data": {
      "text/plain": [
       "(0.8, 0.8, 0.16)"
      ]
     },
     "execution_count": 45,
     "metadata": {},
     "output_type": "execute_result"
    }
   ],
   "source": [
    "null_logl = likelihood.logl_from_frequencies_and_counts(null_freqs, empirical_counts, keys).loc[0]\n",
    "null_mle = null_logl.idxmax()\n",
    "null_mle"
   ]
  },
  {
   "cell_type": "code",
   "execution_count": 46,
   "id": "f0dbdf7e",
   "metadata": {},
   "outputs": [
    {
     "data": {
      "text/plain": [
       "(['s80', 'p80', 'SAR'], [(0.02, 0.8), (0.02, 0.8), (0.12, 0.37)])"
      ]
     },
     "execution_count": 46,
     "metadata": {},
     "output_type": "execute_result"
    }
   ],
   "source": [
    "confidence_95_mask = likelihood.confidence_mask_from_logl(logl, percentiles=(0.95,)).astype('bool')\n",
    "confidence_95_intervals = [\n",
    "    likelihood.confidence_interval_from_confidence_mask(confidence_95_mask, 's80'),\n",
    "    likelihood.confidence_interval_from_confidence_mask(confidence_95_mask, 'p80'),\n",
    "    likelihood.confidence_interval_from_confidence_mask(confidence_95_mask, 'SAR'),\n",
    "]\n",
    "keys, confidence_95_intervals"
   ]
  },
  {
   "cell_type": "code",
   "execution_count": 47,
   "id": "fb31427e",
   "metadata": {},
   "outputs": [
    {
     "data": {
      "text/plain": [
       "size  infections\n",
       "2     1             0.814420\n",
       "      2             0.185580\n",
       "3     1             0.703720\n",
       "      2             0.131615\n",
       "      3             0.164665\n",
       "4     1             0.624915\n",
       "      2             0.104760\n",
       "      3             0.096105\n",
       "      4             0.174220\n",
       "5     1             0.565550\n",
       "      2             0.086210\n",
       "      3             0.066415\n",
       "      4             0.090290\n",
       "      5             0.191535\n",
       "6     1             0.516850\n",
       "      2             0.072500\n",
       "      3             0.049250\n",
       "      4             0.055170\n",
       "      5             0.091070\n",
       "      6             0.215160\n",
       "7     1             0.479775\n",
       "      2             0.061990\n",
       "      3             0.037085\n",
       "      4             0.037235\n",
       "      5             0.049975\n",
       "      6             0.092545\n",
       "      7             0.241395\n",
       "8     1             0.448590\n",
       "      2             0.055210\n",
       "      3             0.029645\n",
       "      4             0.025285\n",
       "      5             0.031205\n",
       "      6             0.048405\n",
       "      7             0.094425\n",
       "      8             0.267235\n",
       "Name: model, dtype: float64"
      ]
     },
     "execution_count": 47,
     "metadata": {},
     "output_type": "execute_result"
    }
   ],
   "source": [
    "# the frequencies at the mle give the proportions of different # of infections in the best fit from the model\n",
    "best_fit_infections = results.df.loc[mle]['frequency']\n",
    "best_fit_infections.name = \"model\"\n",
    "best_fit_infections"
   ]
  },
  {
   "cell_type": "code",
   "execution_count": 48,
   "id": "c14beb6b",
   "metadata": {},
   "outputs": [],
   "source": [
    "# the frequencies at the null hypothesis mle give the proportions of different # of infections in the best fit from the model\n",
    "null_fit_infections = results.df.loc[null_mle]['frequency']\n",
    "null_fit_infections.name = \"null model\""
   ]
  },
  {
   "cell_type": "code",
   "execution_count": 7,
   "id": "e3efb772",
   "metadata": {},
   "outputs": [
    {
     "data": {
      "text/plain": [
       "size  infections\n",
       "2     1             0.797978\n",
       "      2             0.202022\n",
       "3     1             0.728341\n",
       "      2             0.169565\n",
       "      3             0.102093\n",
       "4     1             0.642744\n",
       "      2             0.188162\n",
       "      3             0.101430\n",
       "      4             0.067664\n",
       "5     1             0.635045\n",
       "      2             0.149107\n",
       "      3             0.101562\n",
       "      4             0.063393\n",
       "      5             0.050893\n",
       "6     1             0.549505\n",
       "      2             0.185644\n",
       "      3             0.106436\n",
       "      4             0.061469\n",
       "      5             0.048680\n",
       "      6             0.048267\n",
       "7     1             0.608150\n",
       "      2             0.120167\n",
       "      3             0.076280\n",
       "      4             0.063741\n",
       "      5             0.045977\n",
       "      6             0.042842\n",
       "      7             0.042842\n",
       "8     1             0.511211\n",
       "      2             0.174888\n",
       "      3             0.082960\n",
       "      4             0.053812\n",
       "      5             0.069507\n",
       "      6             0.035874\n",
       "      7             0.022422\n",
       "      8             0.049327\n",
       "Name: data, dtype: float64"
      ]
     },
     "execution_count": 7,
     "metadata": {},
     "output_type": "execute_result"
    }
   ],
   "source": [
    "# the empirical data is observed counts, we convert that to frequencies by dividing the counts by the total number of households of that size\n",
    "empirical_frequencies = empirical_counts/(empirical_counts.groupby(['sample ' + k for k in keys]+[\"size\"]).sum())\n",
    "empirical_frequencies.name = 'data'\n",
    "# we have to index past the dummy key values that we assigned earlier for each parameter in the empirical dataset\n",
    "empirical_frequencies = empirical_frequencies.loc[0.0, 0.0, 0.0]\n",
    "empirical_frequencies"
   ]
  },
  {
   "cell_type": "code",
   "execution_count": 50,
   "id": "ebdd8b1c",
   "metadata": {},
   "outputs": [
    {
     "data": {
      "image/png": "[encoded data removed]",
      "text/plain": [
       "<Figure size 360x864 with 3 Axes>"
      ]
     },
     "metadata": {
      "needs_background": "light"
     },
     "output_type": "display_data"
    }
   ],
   "source": [
    "import matplotlib.pyplot as plt\n",
    "include_null = False\n",
    "if include_null:\n",
    "    combined_best_and_empirical = pd.concat([empirical_frequencies, best_fit_infections, null_fit_infections], axis=1)\n",
    "else:\n",
    "    combined_best_and_empirical = pd.concat([empirical_frequencies, best_fit_infections], axis=1)\n",
    "empirical_sizes = empirical_df.groupby('size').size()\n",
    "n_sizes = len(empirical_sizes.index.unique())\n",
    "\n",
    "which_sizes = empirical_sizes.index.unique()\n",
    "which_sizes = [2, 5, 8]\n",
    "\n",
    "vertical = True\n",
    "\n",
    "n_cols = 3\n",
    "n_rows = int(np.ceil(len(which_sizes) / n_cols))\n",
    "\n",
    "if vertical:\n",
    "    n_cols, n_rows = n_rows, n_cols\n",
    "\n",
    "\n",
    "fixed_ylims = False\n",
    "ylims_by_household_size = {\n",
    "    2: 6000,\n",
    "    5: 3000,\n",
    "    8: 300\n",
    "}\n",
    "\n",
    "fig, axes = plt.subplots(nrows=n_rows, ncols=n_cols)\n",
    "axis_generator = (ax for ax in np.ravel(axes))\n",
    "cmap = plt.get_cmap(\"tab10\")\n",
    "color_dict = {'model': cmap(0), 'data': cmap(1), 'null model':cmap(2)}\n",
    "for k,g in combined_best_and_empirical.groupby('size'):\n",
    "    if k not in which_sizes:\n",
    "        continue\n",
    "    try:\n",
    "        ax = next(axis_generator)\n",
    "    except StopIteration:\n",
    "        break\n",
    "    try:\n",
    "        title = f\"Household size = {k} (# hh in data = {empirical_sizes[k]})\"\n",
    "    except KeyError:\n",
    "        continue\n",
    "    g = g.set_index(g.index.droplevel('size')) * empirical_sizes[k]\n",
    "    g = g / g.sum()\n",
    "    g.plot.bar(\n",
    "        ax=ax,\n",
    "        figsize=(5*n_cols,n_rows*4),\n",
    "        title=title,\n",
    "        xlabel=\"infections\",\n",
    "        ylabel=\"fraction\",\n",
    "        sharex=True,\n",
    "        color=color_dict,\n",
    "    ),\n",
    "    if fixed_ylims:\n",
    "        ax.set_ylim((0,  ylims_by_household_size[k]))\n",
    "    #plt.ylim((0,6000))\n",
    "\n",
    "plt.savefig(f'../figures/{population_name}_data.pdf', dpi=400, bbox_inches='tight')"
   ]
  },
  {
   "cell_type": "code",
   "execution_count": 51,
   "id": "561a4a2d",
   "metadata": {},
   "outputs": [
    {
     "data": {
      "image/png": "[encoded data removed]",
      "text/plain": [
       "<Figure size 432x288 with 1 Axes>"
      ]
     },
     "metadata": {
      "needs_background": "light"
     },
     "output_type": "display_data"
    }
   ],
   "source": [
    "ecounts = empirical_counts.loc[0.0, 0.0, 0.0]\n",
    "(ecounts.groupby('size').sum()/(ecounts.groupby('size').sum().sum())).plot.bar(color='green')\n",
    "plt.ylim(0, 0.5)\n",
    "plt.savefig(f'../figures/{population_name}_household_histogram.pdf', dpi=400, bbox_inches='tight')"
   ]
  },
  {
   "cell_type": "code",
   "execution_count": 52,
   "id": "0d74ba02",
   "metadata": {},
   "outputs": [
    {
     "data": {
      "text/plain": [
       "186"
      ]
     },
     "execution_count": 52,
     "metadata": {},
     "output_type": "execute_result"
    }
   ],
   "source": [
    "ecounts.groupby('size').sum().sum()"
   ]
  },
  {
   "cell_type": "code",
   "execution_count": 53,
   "id": "13829c72",
   "metadata": {},
   "outputs": [
    {
     "data": {
      "text/plain": [
       "186"
      ]
     },
     "execution_count": 53,
     "metadata": {},
     "output_type": "execute_result"
    }
   ],
   "source": [
    "empirical_counts.groupby('size').sum().sum()"
   ]
  },
  {
   "cell_type": "code",
   "execution_count": 58,
   "id": "bfa72352",
   "metadata": {},
   "outputs": [],
   "source": [
    "prob_df = likelihood.normalize_probability(logl)\n",
    "prob_df = prob_df.groupby(['p80', 'SAR']).sum()\n",
    "prob_df = prob_df / prob_df.sum()"
   ]
  },
  {
   "cell_type": "code",
   "execution_count": 59,
   "id": "370a453f",
   "metadata": {},
   "outputs": [
    {
     "data": {
      "image/png": "[encoded data removed]",
      "text/plain": [
       "<Figure size 432x288 with 1 Axes>"
      ]
     },
     "metadata": {
      "needs_background": "light"
     },
     "output_type": "display_data"
    }
   ],
   "source": [
    "Z = prob_df.unstack()\n",
    "\n",
    "X,Y = np.meshgrid(Z.columns, Z.index)\n",
    "#print(self.kwargs)\n",
    "contourf = plt.contourf(X, Y, Z)"
   ]
  }
 ],
 "metadata": {
  "kernelspec": {
   "display_name": "Python 3.9.5 ('.venv': poetry)",
   "language": "python",
   "name": "python3"
  },
  "language_info": {
   "codemirror_mode": {
    "name": "ipython",
    "version": 3
   },
   "file_extension": ".py",
   "mimetype": "text/x-python",
   "name": "python",
   "nbconvert_exporter": "python",
   "pygments_lexer": "ipython3",
   "version": "3.9.5"
  },
  "vscode": {
   "interpreter": {
    "hash": "03a37169ebecb45dcf20fa5c1f374fea92f87ddabb160d4575a3a031fd7e1e7d"
   }
  }
 },
 "nbformat": 4,
 "nbformat_minor": 5
}
