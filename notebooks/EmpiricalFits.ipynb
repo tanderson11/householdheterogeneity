{
 "cells": [
  {
   "cell_type": "markdown",
   "id": "17403acf",
   "metadata": {},
   "source": [
    "# Fitting to empirical data\n",
    "\n",
    "This notebook is used to generate maximum likelihood estimates for the parameters of a dynamic model judging from empirically collected data. It's used to produce Table 1, Figure 4, and supplemental contour figures in the accompanying paper."
   ]
  },
  {
   "cell_type": "markdown",
   "id": "f9322b3c",
   "metadata": {
    "id": "DVNH5-KSBUlt"
   },
   "source": [
    "## Google Colab initialization\n",
    "\n",
    "This section will help you interface with Google Drive and clone the git repository where the code lives. These steps **aren't necessary if you are running locally**. First, make sure you have opened the notebook in Google Colab (use the below button if ncessary) and logged into your Google account.\n",
    "\n",
    "[![Open In Colab](https://colab.research.google.com/assets/colab-badge.svg)](https://githubtocolab.com/tanderson11/covid_households/blob/main/notebooks/EmpiricalFits.ipynb)"
   ]
  },
  {
   "cell_type": "code",
   "execution_count": null,
   "id": "b3d4eee9",
   "metadata": {
    "colab": {
     "base_uri": "https://localhost:8080/"
    },
    "id": "ORzYVf06BhuU",
    "outputId": "47fd409f-f438-4582-bd24-a5414f5cd496"
   },
   "outputs": [],
   "source": [
    "from google.colab import drive\n",
    "drive.mount('/content/gdrive')"
   ]
  },
  {
   "cell_type": "code",
   "execution_count": null,
   "id": "a810bfd8",
   "metadata": {
    "colab": {
     "base_uri": "https://localhost:8080/"
    },
    "id": "I3fmCBmpDCZn",
    "outputId": "ab0b2183-1467-44f7-854b-01932385229e"
   },
   "outputs": [],
   "source": [
    "%mkdir /content/gdrive/My\\ Drive/github/\n",
    "%cd /content/gdrive/My\\ Drive/github/\n",
    "# Thayer has his files located here instead\n",
    "#%cd /content/gdrive/My\\ Drive/github/paper_push\n"
   ]
  },
  {
   "cell_type": "code",
   "execution_count": null,
   "id": "398f3005",
   "metadata": {
    "id": "J0qVcYVio4mo"
   },
   "outputs": [],
   "source": [
    "# If you've forked the repository, point to your own username and repository name (if different)\n",
    "repo_owner=\"tanderson11\"\n",
    "repository=\"covid_households\"\n",
    "\n",
    "!git config --global user.email \"tanderson11@gmail.com\"\n",
    "!git config --global user.name \"Thayer Anderson\""
   ]
  },
  {
   "cell_type": "code",
   "execution_count": null,
   "id": "b982537f",
   "metadata": {
    "colab": {
     "base_uri": "https://localhost:8080/"
    },
    "id": "4wBI8yq891xZ",
    "outputId": "ff975c41-eafa-4049-a218-1ec35c06a94d"
   },
   "outputs": [],
   "source": [
    "!git clone https://github.com/tanderson11/covid_households.git"
   ]
  },
  {
   "cell_type": "code",
   "execution_count": null,
   "id": "6858d803",
   "metadata": {
    "colab": {
     "base_uri": "https://localhost:8080/"
    },
    "id": "bqQubdG6EpNl",
    "outputId": "897a3f56-7399-4d30-c3a4-45adc1e711fb"
   },
   "outputs": [],
   "source": [
    "%cd covid_households/\n",
    "!ls -a\n",
    "\n",
    "# >>> TOKEN SETUP: <<<\n",
    "# this will put your token in the right folder; comment this line out after use to avoid an error message\n",
    "#!mv ../git_token.py ./\n",
    "#!cp ../../covid_households/git_token.py ./\n",
    "\n",
    "#from git_token import git_token"
   ]
  },
  {
   "cell_type": "code",
   "execution_count": null,
   "id": "82b26d12",
   "metadata": {
    "colab": {
     "base_uri": "https://localhost:8080/"
    },
    "id": "FYatPc_m-Iwo",
    "outputId": "0666afa8-1fa4-4a72-99a9-125902f5f4a3"
   },
   "outputs": [],
   "source": [
    "!git checkout main\n",
    "!git pull"
   ]
  },
  {
   "cell_type": "code",
   "execution_count": null,
   "id": "539ae4bd",
   "metadata": {},
   "outputs": [],
   "source": [
    "%cd ./notebooks"
   ]
  },
  {
   "cell_type": "markdown",
   "id": "02e8ebdc",
   "metadata": {},
   "source": [
    "## Module initialization"
   ]
  },
  {
   "cell_type": "code",
   "execution_count": 1,
   "id": "7478c494",
   "metadata": {},
   "outputs": [
    {
     "name": "stdout",
     "output_type": "stream",
     "text": [
      "/Users/thayer/develop/covid_households/covid_households\n"
     ]
    }
   ],
   "source": [
    "import numpy as np\n",
    "import os\n",
    "import pandas as pd\n",
    "import pyarrow.parquet as pq\n",
    "%cd ../covid_households\n",
    "import likelihood\n",
    "import recipes"
   ]
  },
  {
   "cell_type": "markdown",
   "id": "71d14dc5",
   "metadata": {},
   "source": [
    "## Loading empirical and simulated datasets"
   ]
  },
  {
   "cell_type": "code",
   "execution_count": 2,
   "id": "3389ad1c",
   "metadata": {},
   "outputs": [
    {
     "data": {
      "text/plain": [
       "['s80', 'p80', 'SAR']"
      ]
     },
     "execution_count": 2,
     "metadata": {},
     "output_type": "execute_result"
    }
   ],
   "source": [
    "root = os.path.abspath(os.path.dirname(os.path.abspath('')))\n",
    "results = recipes.Results.load(os.path.join(root, 'new_parameters/gillespie-s80-p80-SAR/beta_corrections'))\n",
    "results.find_frequencies(inplace=True)\n",
    "\n",
    "keys = results.metadata.parameters\n",
    "keys"
   ]
  },
  {
   "cell_type": "code",
   "execution_count": 3,
   "id": "486d18b7",
   "metadata": {},
   "outputs": [
    {
     "data": {
      "text/plain": [
       "sample s80  sample p80  sample SAR  size  infections\n",
       "0.0         0.0         0.0         2     1             5526\n",
       "                                          2             1399\n",
       "                                    3     1             4523\n",
       "                                          2             1053\n",
       "                                          3              634\n",
       "                                    4     1             4854\n",
       "                                          2             1421\n",
       "                                          3              766\n",
       "                                          4              511\n",
       "                                    5     1             2845\n",
       "                                          2              668\n",
       "                                          3              455\n",
       "                                          4              284\n",
       "                                          5              228\n",
       "                                    6     1             1332\n",
       "                                          2              450\n",
       "                                          3              258\n",
       "                                          4              149\n",
       "                                          5              118\n",
       "                                          6              117\n",
       "                                    7     1              582\n",
       "                                          2              115\n",
       "                                          3               73\n",
       "                                          4               61\n",
       "                                          5               44\n",
       "                                          6               41\n",
       "                                          7               41\n",
       "                                    8     1              228\n",
       "                                          2               78\n",
       "                                          3               37\n",
       "                                          4               24\n",
       "                                          5               31\n",
       "                                          6               16\n",
       "                                          7               10\n",
       "                                          8               22\n",
       "Name: count, dtype: int64"
      ]
     },
     "execution_count": 3,
     "metadata": {},
     "output_type": "execute_result"
    }
   ],
   "source": [
    "# load the data as a pandas dataframe\n",
    "population_name = 'Ontario'\n",
    "if population_name == 'Ontario':\n",
    "    empirical_df = os.path.join(root, \"empirical/Ontario/empirical_df.parquet\")\n",
    "    empirical_df = pq.read_table(empirical_df).to_pandas()\n",
    "elif population_name == 'Bnei Brak':\n",
    "    dfs = []\n",
    "    n_random_dfs = 20\n",
    "    for i in range(n_random_dfs):\n",
    "        randomized_df_path = os.path.join(root, f\"empirical/BneiBrak/randomized_corrections/randomized_df{i}.parquet\")\n",
    "        randomized_df = pq.read_table(randomized_df_path).to_pandas()\n",
    "        dfs.append(randomized_df)\n",
    "    empirical_df = pd.concat(dfs)\n",
    "    print(empirical_df)\n",
    "    true_path = os.path.join(root, f\"empirical/BneiBrak/empirical_df.parquet\")\n",
    "    bnei_brak_true_hhs = pq.read_table(true_path).to_pandas()\n",
    "elif population_name == 'Geneva':\n",
    "    empirical_df = os.path.join(root, \"empirical/geneva/empirical_df.parquet\")\n",
    "    empirical_df = pq.read_table(empirical_df).to_pandas()\n",
    "else:\n",
    "    assert ValueError(\"population name is not recognized.\")\n",
    "\n",
    "# the infections column should be integer values\n",
    "empirical_df['infections'] = empirical_df['infections'].round(0)\n",
    "empirical_df = empirical_df.astype({'infections': 'int32', 'size': 'int32'})\n",
    "\n",
    "# for the different parameter values, we don't know their true value, so let's give them the dummy value of 0.\n",
    "for key in keys:\n",
    "    empirical_df[key] = 0.\n",
    "\n",
    "# turn the list of households into counts of the number of infections in different households\n",
    "empirical_counts = likelihood.counts_from_empirical(empirical_df, keys, sample_only_keys=[])\n",
    "\n",
    "if population_name == 'Bnei Brak':\n",
    "    empirical_counts = empirical_counts[empirical_counts.index.get_level_values('size') <= 8]\n",
    "    empirical_counts = empirical_counts / 20\n",
    "empirical_counts.tail(50)"
   ]
  },
  {
   "cell_type": "code",
   "execution_count": 4,
   "id": "b9b38aba",
   "metadata": {},
   "outputs": [
    {
     "data": {
      "text/plain": [
       "sample s80  sample p80  sample SAR  size  infections\n",
       "0.0         0.0         0.0         2     1             5526\n",
       "                                          2             1399\n",
       "                                    3     1             4523\n",
       "                                          2             1053\n",
       "                                          3              634\n",
       "                                    4     1             4854\n",
       "                                          2             1421\n",
       "                                          3              766\n",
       "                                          4              511\n",
       "                                    5     1             2845\n",
       "                                          2              668\n",
       "                                          3              455\n",
       "                                          4              284\n",
       "                                          5              228\n",
       "                                    6     1             1332\n",
       "                                          2              450\n",
       "                                          3              258\n",
       "                                          4              149\n",
       "                                          5              118\n",
       "                                          6              117\n",
       "                                    7     1              582\n",
       "                                          2              115\n",
       "                                          3               73\n",
       "                                          4               61\n",
       "                                          5               44\n",
       "                                          6               41\n",
       "                                          7               41\n",
       "                                    8     1              228\n",
       "                                          2               78\n",
       "                                          3               37\n",
       "                                          4               24\n",
       "                                          5               31\n",
       "                                          6               16\n",
       "                                          7               10\n",
       "                                          8               22\n",
       "Name: count, dtype: int64"
      ]
     },
     "execution_count": 4,
     "metadata": {},
     "output_type": "execute_result"
    }
   ],
   "source": [
    "empirical_counts"
   ]
  },
  {
   "cell_type": "markdown",
   "id": "c5112822",
   "metadata": {},
   "source": [
    "Sometimes for fun, we want to look at the best fit under a \"null hypothesis\" of no heterogeneity. In order to do that, we need to select the results of our simulations that have no heterogeneity ($s_{80} = p_{80} = 80\\%$)"
   ]
  },
  {
   "cell_type": "code",
   "execution_count": 5,
   "id": "fc480461",
   "metadata": {},
   "outputs": [
    {
     "data": {
      "text/plain": [
       "s80  p80  SAR   size  infections\n",
       "0.8  0.8  0.01  2     1             0.989690\n",
       "                      2             0.010310\n",
       "                3     1             0.979630\n",
       "                      2             0.019695\n",
       "                      3             0.000675\n",
       "                                      ...   \n",
       "          0.60  8     4             0.000000\n",
       "                      5             0.000000\n",
       "                      6             0.000000\n",
       "                      7             0.000000\n",
       "                      8             0.992920\n",
       "Name: frequency, Length: 2100, dtype: float64"
      ]
     },
     "execution_count": 5,
     "metadata": {},
     "output_type": "execute_result"
    }
   ],
   "source": [
    "freq = results.df['frequency']\n",
    "s80_l = freq.index.get_level_values(0)\n",
    "p80_l = freq.index.get_level_values(1)\n",
    "\n",
    "null_freqs = freq[(s80_l == 0.8) & (p80_l == 0.8)]\n",
    "null_freqs"
   ]
  },
  {
   "cell_type": "markdown",
   "id": "d1f5d053",
   "metadata": {},
   "source": [
    "## Constructing likelihood surface and finding MLEs"
   ]
  },
  {
   "cell_type": "markdown",
   "id": "3742b5d9",
   "metadata": {},
   "source": [
    "By default, the log likelihood is held in a `Series` of log likelihood values organized around a 4-level index. The first index represent which empirical trial corresponds to that section of data. The next three parameters correspond to the parameter values at which we are estimating the likelihood (ie the model parameters)."
   ]
  },
  {
   "cell_type": "code",
   "execution_count": 6,
   "id": "cd0cc3e7",
   "metadata": {},
   "outputs": [
    {
     "name": "stderr",
     "output_type": "stream",
     "text": [
      "/Users/thayer/develop/covid_households/.venv/lib/python3.10/site-packages/pandas/core/arraylike.py:405: RuntimeWarning: divide by zero encountered in log\n",
      "  result = getattr(ufunc, method)(*inputs, **kwargs)\n"
     ]
    },
    {
     "data": {
      "text/plain": [
       "s80   p80   SAR \n",
       "0.02  0.02  0.01   -54624.231155\n",
       "            0.02   -46581.089766\n",
       "            0.03   -42032.333308\n",
       "            0.04   -38940.273208\n",
       "            0.05   -36677.511008\n",
       "                        ...     \n",
       "0.80  0.80  0.44   -55268.713689\n",
       "            0.45   -56614.246990\n",
       "            0.46   -57797.796031\n",
       "            0.47   -59209.216269\n",
       "            0.48   -60617.501692\n",
       "Name: logl, Length: 94524, dtype: float64"
      ]
     },
     "execution_count": 6,
     "metadata": {},
     "output_type": "execute_result"
    }
   ],
   "source": [
    "# calculate the log likelihood using the table of frequencies calculated over many households and the empirical counts from the dataset\n",
    "logl = likelihood.logl_from_frequencies_and_counts(results.df['frequency'], empirical_counts, keys)\n",
    "# by default indexed by a 'trial' index, but there is only one trial (the 0th) because this is a single dataset\n",
    "logl = logl.loc[0]\n",
    "logl"
   ]
  },
  {
   "cell_type": "code",
   "execution_count": 7,
   "id": "cd9ce4b8",
   "metadata": {},
   "outputs": [
    {
     "data": {
      "text/plain": [
       "s80   p80   SAR \n",
       "0.02  0.16  0.23    0.514488\n",
       "0.04  0.14  0.23    0.464105\n",
       "      0.18  0.23    0.016546\n",
       "      0.20  0.23    0.001996\n",
       "      0.16  0.23    0.001850\n",
       "Name: logl, dtype: float64"
      ]
     },
     "execution_count": 7,
     "metadata": {},
     "output_type": "execute_result"
    }
   ],
   "source": [
    "# \"profile\" likelihood: looking at fixing two parameters at the MLE and trying to get 95% confidence in the last one\n",
    "in_95 = likelihood.normalize_probability(logl).sort_values(ascending=False).head()\n",
    "in_95\n",
    "#s80s = list(zip(*[i for i in in_95]))\n",
    "#plt.hist(s80s)"
   ]
  },
  {
   "cell_type": "markdown",
   "id": "f9a8a075",
   "metadata": {},
   "source": [
    "The parameters of the maximum likelihood estimate are easy to obtain by just finding the maximum value in the table of likelihood values."
   ]
  },
  {
   "cell_type": "code",
   "execution_count": 8,
   "id": "39bedec2",
   "metadata": {},
   "outputs": [
    {
     "data": {
      "text/plain": [
       "(['s80', 'p80', 'SAR'], (0.02, 0.16, 0.23))"
      ]
     },
     "execution_count": 8,
     "metadata": {},
     "output_type": "execute_result"
    }
   ],
   "source": [
    "mle = logl.idxmax()\n",
    "keys, mle"
   ]
  },
  {
   "cell_type": "code",
   "execution_count": 9,
   "id": "b8aff69e",
   "metadata": {},
   "outputs": [
    {
     "name": "stderr",
     "output_type": "stream",
     "text": [
      "/Users/thayer/develop/covid_households/.venv/lib/python3.10/site-packages/pandas/core/arraylike.py:405: RuntimeWarning: divide by zero encountered in log\n",
      "  result = getattr(ufunc, method)(*inputs, **kwargs)\n"
     ]
    },
    {
     "data": {
      "text/plain": [
       "(0.8, 0.8, 0.11)"
      ]
     },
     "execution_count": 9,
     "metadata": {},
     "output_type": "execute_result"
    }
   ],
   "source": [
    "null_logl = likelihood.logl_from_frequencies_and_counts(null_freqs, empirical_counts, keys).loc[0]\n",
    "null_mle = null_logl.idxmax()\n",
    "null_mle"
   ]
  },
  {
   "cell_type": "code",
   "execution_count": 10,
   "id": "f0dbdf7e",
   "metadata": {},
   "outputs": [
    {
     "data": {
      "text/plain": [
       "(['s80', 'p80', 'SAR'], [(0.02, 0.04), (0.14, 0.18), (0.22, 0.24)])"
      ]
     },
     "execution_count": 10,
     "metadata": {},
     "output_type": "execute_result"
    }
   ],
   "source": [
    "confidence_95_mask = likelihood.confidence_mask_from_logl(logl, percentiles=(0.95,)).astype('bool')\n",
    "confidence_95_intervals = [\n",
    "    likelihood.confidence_interval_from_confidence_mask(confidence_95_mask, 's80'),\n",
    "    likelihood.confidence_interval_from_confidence_mask(confidence_95_mask, 'p80'),\n",
    "    likelihood.confidence_interval_from_confidence_mask(confidence_95_mask, 'SAR'),\n",
    "]\n",
    "keys, confidence_95_intervals"
   ]
  },
  {
   "cell_type": "markdown",
   "id": "05f93330",
   "metadata": {},
   "source": [
    "## Bar graphs of empirically observed infections and best fit simulated infections\n",
    "\n",
    "To construct these graphs, we have to organize the empirical data and the simulated data into a single DataFrame and then plot the observed/expected infections."
   ]
  },
  {
   "cell_type": "code",
   "execution_count": 11,
   "id": "fb31427e",
   "metadata": {},
   "outputs": [
    {
     "data": {
      "text/plain": [
       "size  infections\n",
       "2     1             0.886690\n",
       "      2             0.113310\n",
       "3     1             0.772100\n",
       "      2             0.150215\n",
       "      3             0.077685\n",
       "4     1             0.673110\n",
       "      2             0.150675\n",
       "      3             0.106220\n",
       "      4             0.069995\n",
       "5     1             0.593460\n",
       "      2             0.137035\n",
       "      3             0.107000\n",
       "      4             0.096050\n",
       "      5             0.066455\n",
       "6     1             0.523935\n",
       "      2             0.122645\n",
       "      3             0.095405\n",
       "      4             0.095420\n",
       "      5             0.095675\n",
       "      6             0.066920\n",
       "7     1             0.471055\n",
       "      2             0.104620\n",
       "      3             0.080320\n",
       "      4             0.083070\n",
       "      5             0.094615\n",
       "      6             0.097030\n",
       "      7             0.069290\n",
       "8     1             0.422575\n",
       "      2             0.091000\n",
       "      3             0.067580\n",
       "      4             0.069885\n",
       "      5             0.080695\n",
       "      6             0.096800\n",
       "      7             0.099570\n",
       "      8             0.071895\n",
       "Name: model, dtype: float64"
      ]
     },
     "execution_count": 11,
     "metadata": {},
     "output_type": "execute_result"
    }
   ],
   "source": [
    "# the frequencies at the mle give the proportions of different # of infections in the best fit from the model\n",
    "best_fit_infections = results.df.loc[mle]['frequency']\n",
    "best_fit_infections.name = \"model\"\n",
    "best_fit_infections"
   ]
  },
  {
   "cell_type": "code",
   "execution_count": 12,
   "id": "c14beb6b",
   "metadata": {},
   "outputs": [],
   "source": [
    "# the frequencies at the null hypothesis mle give the proportions of different # of infections in the best fit from the model\n",
    "null_fit_infections = results.df.loc[null_mle]['frequency']\n",
    "null_fit_infections.name = \"null model\""
   ]
  },
  {
   "cell_type": "code",
   "execution_count": 13,
   "id": "e3efb772",
   "metadata": {},
   "outputs": [
    {
     "data": {
      "text/plain": [
       "size  infections\n",
       "2     1             0.797978\n",
       "      2             0.202022\n",
       "3     1             0.728341\n",
       "      2             0.169565\n",
       "      3             0.102093\n",
       "4     1             0.642744\n",
       "      2             0.188162\n",
       "      3             0.101430\n",
       "      4             0.067664\n",
       "5     1             0.635045\n",
       "      2             0.149107\n",
       "      3             0.101562\n",
       "      4             0.063393\n",
       "      5             0.050893\n",
       "6     1             0.549505\n",
       "      2             0.185644\n",
       "      3             0.106436\n",
       "      4             0.061469\n",
       "      5             0.048680\n",
       "      6             0.048267\n",
       "7     1             0.608150\n",
       "      2             0.120167\n",
       "      3             0.076280\n",
       "      4             0.063741\n",
       "      5             0.045977\n",
       "      6             0.042842\n",
       "      7             0.042842\n",
       "8     1             0.511211\n",
       "      2             0.174888\n",
       "      3             0.082960\n",
       "      4             0.053812\n",
       "      5             0.069507\n",
       "      6             0.035874\n",
       "      7             0.022422\n",
       "      8             0.049327\n",
       "Name: data, dtype: float64"
      ]
     },
     "execution_count": 13,
     "metadata": {},
     "output_type": "execute_result"
    }
   ],
   "source": [
    "# the empirical data is observed counts, we convert that to frequencies by dividing the counts by the total number of households of that size\n",
    "empirical_frequencies = empirical_counts/(empirical_counts.groupby(['sample ' + k for k in keys]+[\"size\"]).sum())\n",
    "empirical_frequencies.name = 'data'\n",
    "# we have to index past the dummy key values that we assigned earlier for each parameter in the empirical dataset\n",
    "empirical_frequencies = empirical_frequencies.loc[0.0, 0.0, 0.0]\n",
    "empirical_frequencies"
   ]
  },
  {
   "cell_type": "code",
   "execution_count": 14,
   "id": "ebdd8b1c",
   "metadata": {},
   "outputs": [
    {
     "data": {
      "image/png": "[encoded data removed]",
      "text/plain": [
       "<Figure size 500x1200 with 3 Axes>"
      ]
     },
     "metadata": {},
     "output_type": "display_data"
    }
   ],
   "source": [
    "import matplotlib.pyplot as plt\n",
    "include_null = False\n",
    "if include_null:\n",
    "    combined_best_and_empirical = pd.concat([empirical_frequencies, best_fit_infections, null_fit_infections], axis=1)\n",
    "else:\n",
    "    combined_best_and_empirical = pd.concat([empirical_frequencies, best_fit_infections], axis=1)\n",
    "empirical_sizes = empirical_df.groupby('size').size()\n",
    "n_sizes = len(empirical_sizes.index.unique())\n",
    "\n",
    "which_sizes = empirical_sizes.index.unique()\n",
    "which_sizes = [2, 5, 8]\n",
    "\n",
    "vertical = True\n",
    "\n",
    "n_cols = 3\n",
    "n_rows = int(np.ceil(len(which_sizes) / n_cols))\n",
    "\n",
    "if vertical:\n",
    "    n_cols, n_rows = n_rows, n_cols\n",
    "\n",
    "\n",
    "fixed_ylims = False\n",
    "ylims_by_household_size = {\n",
    "    2: 6000,\n",
    "    5: 3000,\n",
    "    8: 300\n",
    "}\n",
    "\n",
    "fig, axes = plt.subplots(nrows=n_rows, ncols=n_cols)\n",
    "axis_generator = (ax for ax in np.ravel(axes))\n",
    "cmap = plt.get_cmap(\"tab10\")\n",
    "color_dict = {'model': cmap(0), 'data': cmap(1), 'null model':cmap(2)}\n",
    "for k,g in combined_best_and_empirical.groupby('size'):\n",
    "    if k not in which_sizes:\n",
    "        continue\n",
    "    try:\n",
    "        ax = next(axis_generator)\n",
    "    except StopIteration:\n",
    "        break\n",
    "    try:\n",
    "        title = f\"Household size = {k} (# hh in data = {empirical_sizes[k]})\"\n",
    "    except KeyError:\n",
    "        continue\n",
    "    g = g.set_index(g.index.droplevel('size')) * empirical_sizes[k]\n",
    "    g = g / g.sum()\n",
    "    g.plot.bar(\n",
    "        ax=ax,\n",
    "        figsize=(5*n_cols,n_rows*4),\n",
    "        title=title,\n",
    "        xlabel=\"infections\",\n",
    "        ylabel=\"fraction\",\n",
    "        sharex=True,\n",
    "        color=color_dict,\n",
    "    ),\n",
    "    if fixed_ylims:\n",
    "        ax.set_ylim((0,  ylims_by_household_size[k]))\n",
    "    #plt.ylim((0,6000))\n",
    "\n",
    "plt.savefig(f'../figures/{population_name}_data.pdf', dpi=400, bbox_inches='tight')"
   ]
  },
  {
   "cell_type": "code",
   "execution_count": 15,
   "id": "561a4a2d",
   "metadata": {},
   "outputs": [
    {
     "data": {
      "image/png": "[encoded data removed]",
      "text/plain": [
       "<Figure size 640x480 with 1 Axes>"
      ]
     },
     "metadata": {},
     "output_type": "display_data"
    }
   ],
   "source": [
    "ecounts = empirical_counts.loc[0.0, 0.0, 0.0]\n",
    "(ecounts.groupby('size').sum()/(ecounts.groupby('size').sum().sum())).plot.bar(color='green')\n",
    "plt.ylim(0, 0.5)\n",
    "plt.savefig(f'../figures/{population_name}_household_histogram.pdf', dpi=400, bbox_inches='tight')"
   ]
  },
  {
   "cell_type": "markdown",
   "id": "ce70e435",
   "metadata": {},
   "source": [
    "## Contours of the likelihood surface for a given parameter"
   ]
  },
  {
   "cell_type": "code",
   "execution_count": 16,
   "id": "bfa72352",
   "metadata": {},
   "outputs": [],
   "source": [
    "prob_df = likelihood.normalize_probability(logl)\n",
    "prob_df = prob_df.groupby(['p80', 'SAR']).sum()\n",
    "prob_df = prob_df / prob_df.sum()"
   ]
  },
  {
   "cell_type": "code",
   "execution_count": 17,
   "id": "370a453f",
   "metadata": {},
   "outputs": [
    {
     "data": {
      "image/png": "[encoded data removed]",
      "text/plain": [
       "<Figure size 640x480 with 1 Axes>"
      ]
     },
     "metadata": {},
     "output_type": "display_data"
    }
   ],
   "source": [
    "Z = prob_df.unstack()\n",
    "\n",
    "X,Y = np.meshgrid(Z.columns, Z.index)\n",
    "#print(self.kwargs)\n",
    "contourf = plt.contourf(X, Y, Z)"
   ]
  }
 ],
 "metadata": {
  "kernelspec": {
   "display_name": "Python 3.10.6 ('.venv': poetry)",
   "language": "python",
   "name": "python3"
  },
  "language_info": {
   "codemirror_mode": {
    "name": "ipython",
    "version": 3
   },
   "file_extension": ".py",
   "mimetype": "text/x-python",
   "name": "python",
   "nbconvert_exporter": "python",
   "pygments_lexer": "ipython3",
   "version": "3.10.6"
  },
  "vscode": {
   "interpreter": {
    "hash": "6e0418455f80b5f7c07ffd089975cbf09b69b8ff5f9769ad65d5982a17cefd6f"
   }
  }
 },
 "nbformat": 4,
 "nbformat_minor": 5
}
