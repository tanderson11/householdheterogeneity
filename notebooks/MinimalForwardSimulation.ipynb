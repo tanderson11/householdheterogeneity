{
  "cells": [
    {
      "cell_type": "markdown",
      "metadata": {},
      "source": [
        "# Minimal example of forward simulation\n",
        "\n",
        "This notebook is meant to orient users of the package to the best objects and patterns for forward simulation of a dynamic model. It was used to produce the histograms of infections in Figure 1. This is the best starting place to understand how to proceed with your own experiments and to learn important information about the crucial package `pandas` and how `DataFrame` objects can be manipulated to study the results of experiments."
      ]
    },
    {
      "cell_type": "markdown",
      "metadata": {
        "id": "DVNH5-KSBUlt"
      },
      "source": [
        "# Google Colab initialization\n",
        "\n",
        "This section will help you interface with Google Drive and clone the git repository where the code lives. These steps **aren't necessary if you are running locally**. First, make sure you have opened the notebook in Google Colab (use the below button if ncessary) and logged into your Google account.\n",
        "\n",
        "[![Open In Colab](https://colab.research.google.com/assets/colab-badge.svg)](https://githubtocolab.com/tanderson11/householdheterogeneity/blob/main/notebooks/MinimalForwardSimulation.ipynb)"
      ]
    },
    {
      "cell_type": "code",
      "execution_count": null,
      "metadata": {
        "colab": {
          "base_uri": "https://localhost:8080/"
        },
        "id": "ORzYVf06BhuU",
        "outputId": "47fd409f-f438-4582-bd24-a5414f5cd496"
      },
      "outputs": [],
      "source": [
        "from google.colab import drive\n",
        "drive.mount('/content/gdrive')"
      ]
    },
    {
      "cell_type": "code",
      "execution_count": null,
      "metadata": {
        "colab": {
          "base_uri": "https://localhost:8080/"
        },
        "id": "I3fmCBmpDCZn",
        "outputId": "ab0b2183-1467-44f7-854b-01932385229e"
      },
      "outputs": [],
      "source": [
        "%mkdir /content/gdrive/My\\ Drive/github/\n",
        "%cd /content/gdrive/My\\ Drive/github/\n",
        "# Thayer has his files located here instead\n",
        "#%cd /content/gdrive/My\\ Drive/github/paper_push\n"
      ]
    },
    {
      "cell_type": "code",
      "execution_count": null,
      "metadata": {
        "id": "J0qVcYVio4mo"
      },
      "outputs": [],
      "source": [
        "# If you've forked the repository, point to your own username and repository name (if different)\n",
        "repo_owner=\"tanderson11\"\n",
        "repository=\"householdheterogeneity\"\n",
        "\n",
        "!git config --global user.email \"tanderson11@gmail.com\"\n",
        "!git config --global user.name \"Thayer Anderson\""
      ]
    },
    {
      "cell_type": "code",
      "execution_count": null,
      "metadata": {
        "colab": {
          "base_uri": "https://localhost:8080/"
        },
        "id": "4wBI8yq891xZ",
        "outputId": "ff975c41-eafa-4049-a218-1ec35c06a94d"
      },
      "outputs": [],
      "source": [
        "!git clone https://github.com/{repo_owner}/{repository}.git"
      ]
    },
    {
      "cell_type": "code",
      "execution_count": null,
      "metadata": {
        "colab": {
          "base_uri": "https://localhost:8080/"
        },
        "id": "bqQubdG6EpNl",
        "outputId": "897a3f56-7399-4d30-c3a4-45adc1e711fb"
      },
      "outputs": [],
      "source": [
        "%cd householdheterogeneity/\n",
        "!ls -a\n",
        "\n",
        "# >>> TOKEN SETUP: <<<\n",
        "# this will put your token in the right folder; comment this line out after use to avoid an error message\n",
        "#!mv ../git_token.py ./\n",
        "#!cp ../../householdheterogeneity/git_token.py ./\n",
        "\n",
        "#from git_token import git_token"
      ]
    },
    {
      "cell_type": "code",
      "execution_count": null,
      "metadata": {
        "colab": {
          "base_uri": "https://localhost:8080/"
        },
        "id": "FYatPc_m-Iwo",
        "outputId": "0666afa8-1fa4-4a72-99a9-125902f5f4a3"
      },
      "outputs": [],
      "source": [
        "!git checkout main\n",
        "!git pull"
      ]
    },
    {
      "cell_type": "code",
      "execution_count": null,
      "metadata": {},
      "outputs": [],
      "source": [
        "%cd ./notebooks"
      ]
    },
    {
      "cell_type": "markdown",
      "metadata": {
        "id": "iO7I7oftLV1d"
      },
      "source": [
        "# Experiments\n",
        "\n",
        "We start by importing `recipes` and `utilities`. `Recipes` contains the code that we use for running experiments easily, and utilities will help us define parameters and convert between different parameter sets."
      ]
    },
    {
      "cell_type": "code",
      "execution_count": 1,
      "metadata": {
        "id": "bJP1Mq2YEtVX"
      },
      "outputs": [
        {
          "name": "stdout",
          "output_type": "stream",
          "text": [
            "[Errno 2] No such file or directory: '../householdheterogeneity/'\n",
            "/Users/thayer/develop/covid_households/notebooks\n"
          ]
        }
      ],
      "source": [
        "# Initialization\n",
        "%cd ../householdheterogeneity/\n",
        "import src.recipes as recipes\n",
        "import src.utilities as utilities\n",
        "import src.model_inputs as model_inputs"
      ]
    },
    {
      "cell_type": "markdown",
      "metadata": {
        "id": "JwYT8kgeLvhC"
      },
      "source": [
        "To run experiments we define a `Model` object. The `Model` contains various settings and configurations, and it knows how to run experiments."
      ]
    },
    {
      "cell_type": "code",
      "execution_count": 2,
      "metadata": {
        "colab": {
          "base_uri": "https://localhost:8080/"
        },
        "id": "u5H8RI_MLQeI",
        "outputId": "7d9fd479-3151-46a1-95eb-b99f6f177eb7"
      },
      "outputs": [
        {
          "data": {
            "text/plain": [
              "Model(state_lengths='lognormal', forward_simulation='gillespie', initial_seeding='seed one by susceptibility', importation=None, secondary_infections=True, intervention=None)"
            ]
          },
          "execution_count": 2,
          "metadata": {},
          "output_type": "execute_result"
        }
      ],
      "source": [
        "x = recipes.Model(state_lengths='lognormal')\n",
        "x"
      ]
    },
    {
      "cell_type": "markdown",
      "metadata": {
        "id": "9Hpd7YqoNMZz"
      },
      "source": [
        "To run an experiment, we use the `Model.run_trials()` method. We specify a population through a dictionary of sizes, and we specify a household beta (probability / unit time of transmission). "
      ]
    },
    {
      "cell_type": "code",
      "execution_count": 3,
      "metadata": {
        "colab": {
          "base_uri": "https://localhost:8080/",
          "height": 419
        },
        "id": "XV8lRQbjNLkN",
        "outputId": "5e90c49a-4582-4338-cab8-f74e56c6959f"
      },
      "outputs": [
        {
          "data": {
            "text/html": [
              "<div>\n",
              "<style scoped>\n",
              "    .dataframe tbody tr th:only-of-type {\n",
              "        vertical-align: middle;\n",
              "    }\n",
              "\n",
              "    .dataframe tbody tr th {\n",
              "        vertical-align: top;\n",
              "    }\n",
              "\n",
              "    .dataframe thead th {\n",
              "        text-align: right;\n",
              "    }\n",
              "</style>\n",
              "<table border=\"1\" class=\"dataframe\">\n",
              "  <thead>\n",
              "    <tr style=\"text-align: right;\">\n",
              "      <th></th>\n",
              "      <th></th>\n",
              "      <th>count</th>\n",
              "    </tr>\n",
              "    <tr>\n",
              "      <th>size</th>\n",
              "      <th>infections</th>\n",
              "      <th></th>\n",
              "    </tr>\n",
              "  </thead>\n",
              "  <tbody>\n",
              "    <tr>\n",
              "      <th rowspan=\"4\" valign=\"top\">4</th>\n",
              "      <th>1</th>\n",
              "      <td>423</td>\n",
              "    </tr>\n",
              "    <tr>\n",
              "      <th>2</th>\n",
              "      <td>102</td>\n",
              "    </tr>\n",
              "    <tr>\n",
              "      <th>3</th>\n",
              "      <td>116</td>\n",
              "    </tr>\n",
              "    <tr>\n",
              "      <th>4</th>\n",
              "      <td>359</td>\n",
              "    </tr>\n",
              "    <tr>\n",
              "      <th rowspan=\"5\" valign=\"top\">5</th>\n",
              "      <th>1</th>\n",
              "      <td>325</td>\n",
              "    </tr>\n",
              "    <tr>\n",
              "      <th>2</th>\n",
              "      <td>60</td>\n",
              "    </tr>\n",
              "    <tr>\n",
              "      <th>3</th>\n",
              "      <td>35</td>\n",
              "    </tr>\n",
              "    <tr>\n",
              "      <th>4</th>\n",
              "      <td>86</td>\n",
              "    </tr>\n",
              "    <tr>\n",
              "      <th>5</th>\n",
              "      <td>494</td>\n",
              "    </tr>\n",
              "  </tbody>\n",
              "</table>\n",
              "</div>"
            ],
            "text/plain": [
              "                 count\n",
              "size infections       \n",
              "4    1             423\n",
              "     2             102\n",
              "     3             116\n",
              "     4             359\n",
              "5    1             325\n",
              "     2              60\n",
              "     3              35\n",
              "     4              86\n",
              "     5             494"
            ]
          },
          "execution_count": 3,
          "metadata": {},
          "output_type": "execute_result"
        }
      ],
      "source": [
        "# 1000 households of size 4 and 1000 households of size 5\n",
        "df = x.run_trials(household_beta=0.05, sizes={5:1000, 4:1000})\n",
        "df"
      ]
    },
    {
      "cell_type": "markdown",
      "metadata": {
        "id": "ApLssttfNlAp"
      },
      "source": [
        "To introduce heterogeneites, we add `traits` to the mix. Using `LognormalTrait` is recommended, but there are others like `GammaTrait`, `ConstantTrait` (with any constant value), and `BiModalTrait` (an n-fold difference between the two modes)."
      ]
    },
    {
      "cell_type": "code",
      "execution_count": 4,
      "metadata": {
        "colab": {
          "base_uri": "https://localhost:8080/",
          "height": 419
        },
        "id": "C6eSj4LxNlHY",
        "outputId": "b21ae10f-6165-4b07-b97f-dabcf743b1f4"
      },
      "outputs": [
        {
          "data": {
            "text/html": [
              "<div>\n",
              "<style scoped>\n",
              "    .dataframe tbody tr th:only-of-type {\n",
              "        vertical-align: middle;\n",
              "    }\n",
              "\n",
              "    .dataframe tbody tr th {\n",
              "        vertical-align: top;\n",
              "    }\n",
              "\n",
              "    .dataframe thead th {\n",
              "        text-align: right;\n",
              "    }\n",
              "</style>\n",
              "<table border=\"1\" class=\"dataframe\">\n",
              "  <thead>\n",
              "    <tr style=\"text-align: right;\">\n",
              "      <th></th>\n",
              "      <th></th>\n",
              "      <th>count</th>\n",
              "    </tr>\n",
              "    <tr>\n",
              "      <th>size</th>\n",
              "      <th>infections</th>\n",
              "      <th></th>\n",
              "    </tr>\n",
              "  </thead>\n",
              "  <tbody>\n",
              "    <tr>\n",
              "      <th rowspan=\"8\" valign=\"top\">8</th>\n",
              "      <th>1</th>\n",
              "      <td>757</td>\n",
              "    </tr>\n",
              "    <tr>\n",
              "      <th>2</th>\n",
              "      <td>92</td>\n",
              "    </tr>\n",
              "    <tr>\n",
              "      <th>3</th>\n",
              "      <td>42</td>\n",
              "    </tr>\n",
              "    <tr>\n",
              "      <th>4</th>\n",
              "      <td>18</td>\n",
              "    </tr>\n",
              "    <tr>\n",
              "      <th>5</th>\n",
              "      <td>48</td>\n",
              "    </tr>\n",
              "    <tr>\n",
              "      <th>6</th>\n",
              "      <td>65</td>\n",
              "    </tr>\n",
              "    <tr>\n",
              "      <th>7</th>\n",
              "      <td>157</td>\n",
              "    </tr>\n",
              "    <tr>\n",
              "      <th>8</th>\n",
              "      <td>821</td>\n",
              "    </tr>\n",
              "  </tbody>\n",
              "</table>\n",
              "</div>"
            ],
            "text/plain": [
              "                 count\n",
              "size infections       \n",
              "8    1             757\n",
              "     2              92\n",
              "     3              42\n",
              "     4              18\n",
              "     5              48\n",
              "     6              65\n",
              "     7             157\n",
              "     8             821"
            ]
          },
          "execution_count": 4,
          "metadata": {},
          "output_type": "execute_result"
        }
      ],
      "source": [
        "import src.traits as traits\n",
        "\n",
        "# we use a helper method to create lognormal trait distributions with the desired mean and variance (on the /natural/, not the log scale)\n",
        "susceptibility = traits.LognormalTrait.from_natural_mean_variance(mean=1.0, variance=0.5)\n",
        "infectivity = traits.LognormalTrait.from_natural_mean_variance(mean=1.0, variance=2.0)\n",
        "\n",
        "# specify the susceptibility distribution with the argument sus and likewise for inf \n",
        "df = x.run_trials(household_beta=0.05, sizes={8:2000}, sus=susceptibility, inf=infectivity)\n",
        "df"
      ]
    },
    {
      "cell_type": "markdown",
      "metadata": {
        "id": "tsuXMXUpO4Hk"
      },
      "source": [
        "## Experiments on grids\n",
        "\n",
        "Sometimes, we want to run lots and lots of experiments over a region in parameter space. That might not be relevant yet, but here is how to do it!\n",
        "\n",
        "Start by defining a region:\n",
        "\n",
        "We're using $s_{80}$, $p_{80}$, and $\\text{SAR}$ as the parameters in this example. If you want an explanation of them, let me know!"
      ]
    },
    {
      "cell_type": "code",
      "execution_count": 5,
      "metadata": {
        "colab": {
          "base_uri": "https://localhost:8080/"
        },
        "id": "DnSTtajiLWdy",
        "outputId": "e1b5a964-2ef3-4a95-a1a7-498eb8031075"
      },
      "outputs": [
        {
          "data": {
            "text/plain": [
              "SimulationRegion(axes_by_name=OrderedDict([('s80', array([0.2, 0.5, 0.8])), ('p80', array([0.2, 0.5, 0.8])), ('SAR', array([0.1, 0.2, 0.3]))]), parameter_class=<class 'src.model_inputs.S80_P80_SAR_Inputs'>)"
            ]
          },
          "execution_count": 5,
          "metadata": {},
          "output_type": "execute_result"
        }
      ],
      "source": [
        "import numpy as np\n",
        "s80_axis = np.linspace(0.2, 0.8, 3)\n",
        "p80_axis = np.linspace(0.2, 0.8, 3)\n",
        "sar_axis = np.linspace(0.10, 0.30, 3)\n",
        "from typing import OrderedDict\n",
        "axes_by_key = OrderedDict({'s80':s80_axis, 'p80':p80_axis, 'SAR':sar_axis})\n",
        "\n",
        "# The second argument is a `ModelInputs` formula. It knows how to convert the parameters in axes_by_key into the default parameters. \n",
        "region = recipes.SimulationRegion(axes_by_key, model_inputs.S80_P80_SAR_Inputs)\n",
        "region"
      ]
    },
    {
      "cell_type": "code",
      "execution_count": 14,
      "metadata": {},
      "outputs": [],
      "source": [
        "DILUTION_PARAM = False\n",
        "#DILUTION_PARAM = 0.75\n",
        "target_SAR = 0.20\n",
        "SAR_color_index = int(target_SAR*10-1)"
      ]
    },
    {
      "cell_type": "markdown",
      "metadata": {
        "id": "WyBvYNQbXVA8"
      },
      "source": [
        "Then we use `Model.run_grid()` to run at every point in the three-dimensional grid. We save the outputs (both incrementally and after we complete the simulations) in a folder that we specify."
      ]
    },
    {
      "cell_type": "code",
      "execution_count": 15,
      "metadata": {
        "colab": {
          "base_uri": "https://localhost:8080/"
        },
        "id": "GKxzx22NLaOa",
        "outputId": "cd257951-6b85-4280-9789-01025ef90def"
      },
      "outputs": [
        {
          "name": "stdout",
          "output_type": "stream",
          "text": [
            "mkdir: experiment_outputs/: File exists\n"
          ]
        }
      ],
      "source": [
        "import datetime\n",
        "date_str = datetime.datetime.now().strftime(\"%m-%d-%H-%M\")\n",
        "!mkdir experiment_outputs/\n",
        "dir_name = f\"experiment_outputs/experiment-{date_str}\"\n",
        "!mkdir {dir_name}\n",
        "results = x.run_grid({5:25000}, region, dir_name, divide_by_contacts=DILUTION_PARAM)\n",
        "results.save(dir_name, 'results')"
      ]
    },
    {
      "cell_type": "markdown",
      "metadata": {
        "id": "6_nwnCcg0lx9"
      },
      "source": [
        "## Understanding what a `results` object and a `df` are"
      ]
    },
    {
      "cell_type": "markdown",
      "metadata": {
        "id": "js5zW6Wq6sT3"
      },
      "source": [
        "A results object has two associated attributes:\n",
        "\n",
        "1. `results.metadata`: a record of the parameters and settings involved in simulating. It's helpful to carry this around to avoid accidentally combining results that don't represent the same model. But you probably don't need to worry about it too much!\n",
        "2. `results.df`: a [Pandas](https://pandas.pydata.org/pandas-docs/stable/reference/api/pandas.DataFrame.html) `DataFrame` object. This is essentially just a spreadsheet that records the observed numbers of infections for the different households at the different points in parameter space."
      ]
    },
    {
      "cell_type": "code",
      "execution_count": 7,
      "metadata": {
        "colab": {
          "base_uri": "https://localhost:8080/"
        },
        "id": "B_vrDXN26bGr",
        "outputId": "4bb575cd-ecec-414c-d7fb-b639a847519b"
      },
      "outputs": [
        {
          "data": {
            "text/plain": [
              "Metadata(constants={'delta_t': 0.1, 'infectious_period_duration_mean': 6.0, 'infectious_period_duration_std': 2.5, 'latent_period_duration_mean': 3.5, 'latent_period_duration_std': 2.5}, model=Model(state_lengths='lognormal', forward_simulation='gillespie', initial_seeding='seed one by susceptibility', importation=None, secondary_infections=True, intervention=None), population={5: 25000}, parameters=['s80', 'p80', 'SAR'])"
            ]
          },
          "execution_count": 7,
          "metadata": {},
          "output_type": "execute_result"
        }
      ],
      "source": [
        "results.metadata"
      ]
    },
    {
      "cell_type": "markdown",
      "metadata": {
        "id": "d5iqQ1Vn8DxE"
      },
      "source": [
        "## Plotting and Pandas tutorial\n",
        "\n",
        "Here's a basic plotting example. Let's say we want to look at the histograms of infections stratified by how much heterogeneity is present (basically: a subpanel in the methods figure).\n",
        "\n",
        "First we'll set up some nice colors (you don't have to worry about this)."
      ]
    },
    {
      "cell_type": "code",
      "execution_count": 17,
      "metadata": {
        "id": "3Kgo6hTtv7N9"
      },
      "outputs": [],
      "source": [
        "import matplotlib.pyplot as plt\n",
        "basic_sequential_cmap = plt.get_cmap(\"Greens\")\n",
        "alt_cmap = plt.get_cmap(\"Oranges\")\n",
        "colors = [basic_sequential_cmap(x) for x in np.linspace(0.2, 0.7, 3)]\n",
        "colors[0] = [alt_cmap(x) for x in np.linspace(0.3, 0.6, 3)][SAR_color_index]"
      ]
    },
    {
      "cell_type": "markdown",
      "metadata": {
        "id": "6_CZRO7yv-5Z"
      },
      "source": [
        "Now we group the dataframe by the values that we want to hold constant so that we can plot the infections over the variable of interest."
      ]
    },
    {
      "cell_type": "code",
      "execution_count": 18,
      "metadata": {
        "colab": {
          "base_uri": "https://localhost:8080/",
          "height": 282
        },
        "id": "-RHag6ld7Lgk",
        "outputId": "7dc9f12b-8973-4433-fc9c-0263552c009c"
      },
      "outputs": [
        {
          "data": {
            "image/png": "[encoded data removed]",
            "text/plain": [
              "<Figure size 640x480 with 1 Axes>"
            ]
          },
          "metadata": {},
          "output_type": "display_data"
        }
      ],
      "source": [
        "plt.rcParams.update({'font.size': 14,})\n",
        "# we group by the variables we aren't interested in plotting so that they'll be constant in the slice we look at\n",
        "grouping = ['p80', 'SAR', 'size']\n",
        "for key, group in results.df.groupby(grouping): # we perform the grouping and iterate over groups\n",
        "    group = group.rename(columns={0:'count'}) # I rename a mysterious column to make it more obvious. In future, this will be the default behavior!\n",
        "    # we make key_dict, a mapping from labels (ex. 'p80') to the value in the current group\n",
        "    key_dict = {label:key[i] for i,label in enumerate(grouping)}\n",
        "    # we skip values we're not interested in\n",
        "    if key_dict['p80'] != 0.8: continue\n",
        "    if key_dict['SAR'] != target_SAR: continue\n",
        "\n",
        "    # do some magic! (I'll explain down below)\n",
        "    restructured_group = group['count'].reset_index().drop(['p80', 'SAR', 'size'], axis=1).set_index(['infections', 's80']).unstack()\n",
        "    restructured_group = restructured_group.droplevel(0, axis=1)\n",
        "    restructured_group = restructured_group / restructured_group.sum()\n",
        "    # switch the order of our columns because *decreasing* s80 corresponds with *adding* heterogeneity\n",
        "    switched_column_order = restructured_group[restructured_group.columns[::-1]]\n",
        "    ax = switched_column_order.plot.bar(color=colors)\n",
        "    break\n",
        "#ax.axes.yaxis.set_ticklabels([])\n",
        "ax.set_xlabel(\"Infections\")\n",
        "ax.set_ylabel(\"Frequency\")\n",
        "ax.set_ylim((0.0, 1.0))\n",
        "plt.savefig(\"different_s80s.pdf\", dpi=400)"
      ]
    },
    {
      "cell_type": "code",
      "execution_count": 10,
      "metadata": {},
      "outputs": [
        {
          "data": {
            "text/html": [
              "<div>\n",
              "<style scoped>\n",
              "    .dataframe tbody tr th:only-of-type {\n",
              "        vertical-align: middle;\n",
              "    }\n",
              "\n",
              "    .dataframe tbody tr th {\n",
              "        vertical-align: top;\n",
              "    }\n",
              "\n",
              "    .dataframe thead th {\n",
              "        text-align: right;\n",
              "    }\n",
              "</style>\n",
              "<table border=\"1\" class=\"dataframe\">\n",
              "  <thead>\n",
              "    <tr style=\"text-align: right;\">\n",
              "      <th>s80</th>\n",
              "      <th>0.2</th>\n",
              "      <th>0.5</th>\n",
              "      <th>0.8</th>\n",
              "    </tr>\n",
              "    <tr>\n",
              "      <th>infections</th>\n",
              "      <th></th>\n",
              "      <th></th>\n",
              "      <th></th>\n",
              "    </tr>\n",
              "  </thead>\n",
              "  <tbody>\n",
              "    <tr>\n",
              "      <th>1</th>\n",
              "      <td>0.36768</td>\n",
              "      <td>0.30256</td>\n",
              "      <td>0.26576</td>\n",
              "    </tr>\n",
              "    <tr>\n",
              "      <th>2</th>\n",
              "      <td>0.14620</td>\n",
              "      <td>0.08332</td>\n",
              "      <td>0.04440</td>\n",
              "    </tr>\n",
              "    <tr>\n",
              "      <th>3</th>\n",
              "      <td>0.15160</td>\n",
              "      <td>0.08072</td>\n",
              "      <td>0.02860</td>\n",
              "    </tr>\n",
              "    <tr>\n",
              "      <th>4</th>\n",
              "      <td>0.18048</td>\n",
              "      <td>0.15588</td>\n",
              "      <td>0.05996</td>\n",
              "    </tr>\n",
              "    <tr>\n",
              "      <th>5</th>\n",
              "      <td>0.15404</td>\n",
              "      <td>0.37752</td>\n",
              "      <td>0.60128</td>\n",
              "    </tr>\n",
              "  </tbody>\n",
              "</table>\n",
              "</div>"
            ],
            "text/plain": [
              "s80             0.2      0.5      0.8\n",
              "infections                           \n",
              "1           0.36768  0.30256  0.26576\n",
              "2           0.14620  0.08332  0.04440\n",
              "3           0.15160  0.08072  0.02860\n",
              "4           0.18048  0.15588  0.05996\n",
              "5           0.15404  0.37752  0.60128"
            ]
          },
          "execution_count": 10,
          "metadata": {},
          "output_type": "execute_result"
        }
      ],
      "source": [
        "restructured_group"
      ]
    },
    {
      "cell_type": "markdown",
      "metadata": {
        "id": "Fh-Gy5pexHhw"
      },
      "source": [
        "You might be wondering what magic took place with all the setting and resetting of the index. I'll explain it below as a mini tutorial in `pandas`. But fortunately, a lot of this wizardry can be done automatically in the `utilities` and `fancy_plotting` parts of the module. I'll explain those more in the future.\n",
        "\n",
        "Our starting point was the `group` object, a slice of the data where $p_{80}$, $\\text{SAR}$, and the size were held constant."
      ]
    },
    {
      "cell_type": "code",
      "execution_count": 11,
      "metadata": {
        "colab": {
          "base_uri": "https://localhost:8080/",
          "height": 545
        },
        "id": "4mX7sSwqxYh9",
        "outputId": "042606be-e0e7-4510-d2b7-9a47905b688e"
      },
      "outputs": [
        {
          "data": {
            "text/html": [
              "<div>\n",
              "<style scoped>\n",
              "    .dataframe tbody tr th:only-of-type {\n",
              "        vertical-align: middle;\n",
              "    }\n",
              "\n",
              "    .dataframe tbody tr th {\n",
              "        vertical-align: top;\n",
              "    }\n",
              "\n",
              "    .dataframe thead th {\n",
              "        text-align: right;\n",
              "    }\n",
              "</style>\n",
              "<table border=\"1\" class=\"dataframe\">\n",
              "  <thead>\n",
              "    <tr style=\"text-align: right;\">\n",
              "      <th></th>\n",
              "      <th></th>\n",
              "      <th></th>\n",
              "      <th></th>\n",
              "      <th></th>\n",
              "      <th>count</th>\n",
              "      <th>sus_variance</th>\n",
              "      <th>inf_variance</th>\n",
              "      <th>beta</th>\n",
              "      <th>inf_constant_value</th>\n",
              "      <th>sus_constant_value</th>\n",
              "    </tr>\n",
              "    <tr>\n",
              "      <th>s80</th>\n",
              "      <th>p80</th>\n",
              "      <th>SAR</th>\n",
              "      <th>size</th>\n",
              "      <th>infections</th>\n",
              "      <th></th>\n",
              "      <th></th>\n",
              "      <th></th>\n",
              "      <th></th>\n",
              "      <th></th>\n",
              "      <th></th>\n",
              "    </tr>\n",
              "  </thead>\n",
              "  <tbody>\n",
              "    <tr>\n",
              "      <th rowspan=\"5\" valign=\"top\">0.2</th>\n",
              "      <th rowspan=\"5\" valign=\"top\">0.8</th>\n",
              "      <th rowspan=\"5\" valign=\"top\">0.3</th>\n",
              "      <th rowspan=\"5\" valign=\"top\">5</th>\n",
              "      <th>1</th>\n",
              "      <td>9192</td>\n",
              "      <td>16.002</td>\n",
              "      <td>NaN</td>\n",
              "      <td>0.146</td>\n",
              "      <td>1.0</td>\n",
              "      <td>NaN</td>\n",
              "    </tr>\n",
              "    <tr>\n",
              "      <th>2</th>\n",
              "      <td>3655</td>\n",
              "      <td>16.002</td>\n",
              "      <td>NaN</td>\n",
              "      <td>0.146</td>\n",
              "      <td>1.0</td>\n",
              "      <td>NaN</td>\n",
              "    </tr>\n",
              "    <tr>\n",
              "      <th>3</th>\n",
              "      <td>3790</td>\n",
              "      <td>16.002</td>\n",
              "      <td>NaN</td>\n",
              "      <td>0.146</td>\n",
              "      <td>1.0</td>\n",
              "      <td>NaN</td>\n",
              "    </tr>\n",
              "    <tr>\n",
              "      <th>4</th>\n",
              "      <td>4512</td>\n",
              "      <td>16.002</td>\n",
              "      <td>NaN</td>\n",
              "      <td>0.146</td>\n",
              "      <td>1.0</td>\n",
              "      <td>NaN</td>\n",
              "    </tr>\n",
              "    <tr>\n",
              "      <th>5</th>\n",
              "      <td>3851</td>\n",
              "      <td>16.002</td>\n",
              "      <td>NaN</td>\n",
              "      <td>0.146</td>\n",
              "      <td>1.0</td>\n",
              "      <td>NaN</td>\n",
              "    </tr>\n",
              "    <tr>\n",
              "      <th rowspan=\"5\" valign=\"top\">0.5</th>\n",
              "      <th rowspan=\"5\" valign=\"top\">0.8</th>\n",
              "      <th rowspan=\"5\" valign=\"top\">0.3</th>\n",
              "      <th rowspan=\"5\" valign=\"top\">5</th>\n",
              "      <th>1</th>\n",
              "      <td>7564</td>\n",
              "      <td>1.031</td>\n",
              "      <td>NaN</td>\n",
              "      <td>0.073</td>\n",
              "      <td>1.0</td>\n",
              "      <td>NaN</td>\n",
              "    </tr>\n",
              "    <tr>\n",
              "      <th>2</th>\n",
              "      <td>2083</td>\n",
              "      <td>1.031</td>\n",
              "      <td>NaN</td>\n",
              "      <td>0.073</td>\n",
              "      <td>1.0</td>\n",
              "      <td>NaN</td>\n",
              "    </tr>\n",
              "    <tr>\n",
              "      <th>3</th>\n",
              "      <td>2018</td>\n",
              "      <td>1.031</td>\n",
              "      <td>NaN</td>\n",
              "      <td>0.073</td>\n",
              "      <td>1.0</td>\n",
              "      <td>NaN</td>\n",
              "    </tr>\n",
              "    <tr>\n",
              "      <th>4</th>\n",
              "      <td>3897</td>\n",
              "      <td>1.031</td>\n",
              "      <td>NaN</td>\n",
              "      <td>0.073</td>\n",
              "      <td>1.0</td>\n",
              "      <td>NaN</td>\n",
              "    </tr>\n",
              "    <tr>\n",
              "      <th>5</th>\n",
              "      <td>9438</td>\n",
              "      <td>1.031</td>\n",
              "      <td>NaN</td>\n",
              "      <td>0.073</td>\n",
              "      <td>1.0</td>\n",
              "      <td>NaN</td>\n",
              "    </tr>\n",
              "    <tr>\n",
              "      <th rowspan=\"5\" valign=\"top\">0.8</th>\n",
              "      <th rowspan=\"5\" valign=\"top\">0.8</th>\n",
              "      <th rowspan=\"5\" valign=\"top\">0.3</th>\n",
              "      <th rowspan=\"5\" valign=\"top\">5</th>\n",
              "      <th>1</th>\n",
              "      <td>6644</td>\n",
              "      <td>NaN</td>\n",
              "      <td>NaN</td>\n",
              "      <td>0.061</td>\n",
              "      <td>1.0</td>\n",
              "      <td>1.0</td>\n",
              "    </tr>\n",
              "    <tr>\n",
              "      <th>2</th>\n",
              "      <td>1110</td>\n",
              "      <td>NaN</td>\n",
              "      <td>NaN</td>\n",
              "      <td>0.061</td>\n",
              "      <td>1.0</td>\n",
              "      <td>1.0</td>\n",
              "    </tr>\n",
              "    <tr>\n",
              "      <th>3</th>\n",
              "      <td>715</td>\n",
              "      <td>NaN</td>\n",
              "      <td>NaN</td>\n",
              "      <td>0.061</td>\n",
              "      <td>1.0</td>\n",
              "      <td>1.0</td>\n",
              "    </tr>\n",
              "    <tr>\n",
              "      <th>4</th>\n",
              "      <td>1499</td>\n",
              "      <td>NaN</td>\n",
              "      <td>NaN</td>\n",
              "      <td>0.061</td>\n",
              "      <td>1.0</td>\n",
              "      <td>1.0</td>\n",
              "    </tr>\n",
              "    <tr>\n",
              "      <th>5</th>\n",
              "      <td>15032</td>\n",
              "      <td>NaN</td>\n",
              "      <td>NaN</td>\n",
              "      <td>0.061</td>\n",
              "      <td>1.0</td>\n",
              "      <td>1.0</td>\n",
              "    </tr>\n",
              "  </tbody>\n",
              "</table>\n",
              "</div>"
            ],
            "text/plain": [
              "                             count  sus_variance  inf_variance   beta  \\\n",
              "s80 p80 SAR size infections                                             \n",
              "0.2 0.8 0.3 5    1            9192        16.002           NaN  0.146   \n",
              "                 2            3655        16.002           NaN  0.146   \n",
              "                 3            3790        16.002           NaN  0.146   \n",
              "                 4            4512        16.002           NaN  0.146   \n",
              "                 5            3851        16.002           NaN  0.146   \n",
              "0.5 0.8 0.3 5    1            7564         1.031           NaN  0.073   \n",
              "                 2            2083         1.031           NaN  0.073   \n",
              "                 3            2018         1.031           NaN  0.073   \n",
              "                 4            3897         1.031           NaN  0.073   \n",
              "                 5            9438         1.031           NaN  0.073   \n",
              "0.8 0.8 0.3 5    1            6644           NaN           NaN  0.061   \n",
              "                 2            1110           NaN           NaN  0.061   \n",
              "                 3             715           NaN           NaN  0.061   \n",
              "                 4            1499           NaN           NaN  0.061   \n",
              "                 5           15032           NaN           NaN  0.061   \n",
              "\n",
              "                             inf_constant_value  sus_constant_value  \n",
              "s80 p80 SAR size infections                                          \n",
              "0.2 0.8 0.3 5    1                          1.0                 NaN  \n",
              "                 2                          1.0                 NaN  \n",
              "                 3                          1.0                 NaN  \n",
              "                 4                          1.0                 NaN  \n",
              "                 5                          1.0                 NaN  \n",
              "0.5 0.8 0.3 5    1                          1.0                 NaN  \n",
              "                 2                          1.0                 NaN  \n",
              "                 3                          1.0                 NaN  \n",
              "                 4                          1.0                 NaN  \n",
              "                 5                          1.0                 NaN  \n",
              "0.8 0.8 0.3 5    1                          1.0                 1.0  \n",
              "                 2                          1.0                 1.0  \n",
              "                 3                          1.0                 1.0  \n",
              "                 4                          1.0                 1.0  \n",
              "                 5                          1.0                 1.0  "
            ]
          },
          "execution_count": 11,
          "metadata": {},
          "output_type": "execute_result"
        }
      ],
      "source": [
        "group"
      ]
    },
    {
      "cell_type": "markdown",
      "metadata": {
        "id": "aTL7iRJFxneB"
      },
      "source": [
        "You can observe that there are three different values for $s_{80}$ in the index of this table (an index is just a special kind of column[s] in a table that is understood to label different entries sequentially).\n",
        "\n",
        "Our desired endpoint needs to discard the miscellaneous data held in the table (used to verify its integrity) and get the different values of $s_{80}$ to be the **columns instead of the index**. That way, pandas will plot each of the columns separately in our bar plot. Here's our desired endpoint:"
      ]
    },
    {
      "cell_type": "code",
      "execution_count": 12,
      "metadata": {
        "colab": {
          "base_uri": "https://localhost:8080/",
          "height": 235
        },
        "id": "DB80LagfxlX9",
        "outputId": "547c8ed6-afe5-454b-8009-6b5d0483f0bb"
      },
      "outputs": [
        {
          "data": {
            "text/html": [
              "<div>\n",
              "<style scoped>\n",
              "    .dataframe tbody tr th:only-of-type {\n",
              "        vertical-align: middle;\n",
              "    }\n",
              "\n",
              "    .dataframe tbody tr th {\n",
              "        vertical-align: top;\n",
              "    }\n",
              "\n",
              "    .dataframe thead th {\n",
              "        text-align: right;\n",
              "    }\n",
              "</style>\n",
              "<table border=\"1\" class=\"dataframe\">\n",
              "  <thead>\n",
              "    <tr style=\"text-align: right;\">\n",
              "      <th>s80</th>\n",
              "      <th>0.2</th>\n",
              "      <th>0.5</th>\n",
              "      <th>0.8</th>\n",
              "    </tr>\n",
              "    <tr>\n",
              "      <th>infections</th>\n",
              "      <th></th>\n",
              "      <th></th>\n",
              "      <th></th>\n",
              "    </tr>\n",
              "  </thead>\n",
              "  <tbody>\n",
              "    <tr>\n",
              "      <th>1</th>\n",
              "      <td>0.36768</td>\n",
              "      <td>0.30256</td>\n",
              "      <td>0.26576</td>\n",
              "    </tr>\n",
              "    <tr>\n",
              "      <th>2</th>\n",
              "      <td>0.14620</td>\n",
              "      <td>0.08332</td>\n",
              "      <td>0.04440</td>\n",
              "    </tr>\n",
              "    <tr>\n",
              "      <th>3</th>\n",
              "      <td>0.15160</td>\n",
              "      <td>0.08072</td>\n",
              "      <td>0.02860</td>\n",
              "    </tr>\n",
              "    <tr>\n",
              "      <th>4</th>\n",
              "      <td>0.18048</td>\n",
              "      <td>0.15588</td>\n",
              "      <td>0.05996</td>\n",
              "    </tr>\n",
              "    <tr>\n",
              "      <th>5</th>\n",
              "      <td>0.15404</td>\n",
              "      <td>0.37752</td>\n",
              "      <td>0.60128</td>\n",
              "    </tr>\n",
              "  </tbody>\n",
              "</table>\n",
              "</div>"
            ],
            "text/plain": [
              "s80             0.2      0.5      0.8\n",
              "infections                           \n",
              "1           0.36768  0.30256  0.26576\n",
              "2           0.14620  0.08332  0.04440\n",
              "3           0.15160  0.08072  0.02860\n",
              "4           0.18048  0.15588  0.05996\n",
              "5           0.15404  0.37752  0.60128"
            ]
          },
          "execution_count": 12,
          "metadata": {},
          "output_type": "execute_result"
        }
      ],
      "source": [
        "restructured_group"
      ]
    },
    {
      "cell_type": "markdown",
      "metadata": {
        "id": "iJYnhxZQy03r"
      },
      "source": [
        "We get there first by selecting the revelvant column, \"count,\" which counts the number of times we observe a certain number of infections. You can see our data is now only one column: (our index remains many columns)"
      ]
    },
    {
      "cell_type": "code",
      "execution_count": 13,
      "metadata": {
        "colab": {
          "base_uri": "https://localhost:8080/"
        },
        "id": "qaaBrXVNx3_V",
        "outputId": "a2d0d255-b34c-42fb-ba24-f99d7beab40b"
      },
      "outputs": [
        {
          "data": {
            "text/plain": [
              "s80  p80  SAR  size  infections\n",
              "0.2  0.8  0.3  5     1              9192\n",
              "                     2              3655\n",
              "                     3              3790\n",
              "                     4              4512\n",
              "                     5              3851\n",
              "0.5  0.8  0.3  5     1              7564\n",
              "                     2              2083\n",
              "                     3              2018\n",
              "                     4              3897\n",
              "                     5              9438\n",
              "0.8  0.8  0.3  5     1              6644\n",
              "                     2              1110\n",
              "                     3               715\n",
              "                     4              1499\n",
              "                     5             15032\n",
              "Name: count, dtype: int64"
            ]
          },
          "execution_count": 13,
          "metadata": {},
          "output_type": "execute_result"
        }
      ],
      "source": [
        "step_by_step = group['count']\n",
        "step_by_step"
      ]
    },
    {
      "cell_type": "markdown",
      "metadata": {
        "id": "5w5rDLRmzNlV"
      },
      "source": [
        "Next we reset the index so that we can drop the parts of the index we don't care about (we drop them by naming the columns and specifying `axis=1` AKA: drop columns not rows). Afterwards, we set a new index to restore the two index columns that we wanted to keep:"
      ]
    },
    {
      "cell_type": "code",
      "execution_count": 14,
      "metadata": {
        "colab": {
          "base_uri": "https://localhost:8080/",
          "height": 545
        },
        "id": "k9Ur__0YzHgD",
        "outputId": "8c68fbed-e0d7-41a7-ef75-7298f0678520"
      },
      "outputs": [
        {
          "data": {
            "text/html": [
              "<div>\n",
              "<style scoped>\n",
              "    .dataframe tbody tr th:only-of-type {\n",
              "        vertical-align: middle;\n",
              "    }\n",
              "\n",
              "    .dataframe tbody tr th {\n",
              "        vertical-align: top;\n",
              "    }\n",
              "\n",
              "    .dataframe thead th {\n",
              "        text-align: right;\n",
              "    }\n",
              "</style>\n",
              "<table border=\"1\" class=\"dataframe\">\n",
              "  <thead>\n",
              "    <tr style=\"text-align: right;\">\n",
              "      <th></th>\n",
              "      <th></th>\n",
              "      <th>count</th>\n",
              "    </tr>\n",
              "    <tr>\n",
              "      <th>infections</th>\n",
              "      <th>s80</th>\n",
              "      <th></th>\n",
              "    </tr>\n",
              "  </thead>\n",
              "  <tbody>\n",
              "    <tr>\n",
              "      <th>1</th>\n",
              "      <th>0.2</th>\n",
              "      <td>9192</td>\n",
              "    </tr>\n",
              "    <tr>\n",
              "      <th>2</th>\n",
              "      <th>0.2</th>\n",
              "      <td>3655</td>\n",
              "    </tr>\n",
              "    <tr>\n",
              "      <th>3</th>\n",
              "      <th>0.2</th>\n",
              "      <td>3790</td>\n",
              "    </tr>\n",
              "    <tr>\n",
              "      <th>4</th>\n",
              "      <th>0.2</th>\n",
              "      <td>4512</td>\n",
              "    </tr>\n",
              "    <tr>\n",
              "      <th>5</th>\n",
              "      <th>0.2</th>\n",
              "      <td>3851</td>\n",
              "    </tr>\n",
              "    <tr>\n",
              "      <th>1</th>\n",
              "      <th>0.5</th>\n",
              "      <td>7564</td>\n",
              "    </tr>\n",
              "    <tr>\n",
              "      <th>2</th>\n",
              "      <th>0.5</th>\n",
              "      <td>2083</td>\n",
              "    </tr>\n",
              "    <tr>\n",
              "      <th>3</th>\n",
              "      <th>0.5</th>\n",
              "      <td>2018</td>\n",
              "    </tr>\n",
              "    <tr>\n",
              "      <th>4</th>\n",
              "      <th>0.5</th>\n",
              "      <td>3897</td>\n",
              "    </tr>\n",
              "    <tr>\n",
              "      <th>5</th>\n",
              "      <th>0.5</th>\n",
              "      <td>9438</td>\n",
              "    </tr>\n",
              "    <tr>\n",
              "      <th>1</th>\n",
              "      <th>0.8</th>\n",
              "      <td>6644</td>\n",
              "    </tr>\n",
              "    <tr>\n",
              "      <th>2</th>\n",
              "      <th>0.8</th>\n",
              "      <td>1110</td>\n",
              "    </tr>\n",
              "    <tr>\n",
              "      <th>3</th>\n",
              "      <th>0.8</th>\n",
              "      <td>715</td>\n",
              "    </tr>\n",
              "    <tr>\n",
              "      <th>4</th>\n",
              "      <th>0.8</th>\n",
              "      <td>1499</td>\n",
              "    </tr>\n",
              "    <tr>\n",
              "      <th>5</th>\n",
              "      <th>0.8</th>\n",
              "      <td>15032</td>\n",
              "    </tr>\n",
              "  </tbody>\n",
              "</table>\n",
              "</div>"
            ],
            "text/plain": [
              "                count\n",
              "infections s80       \n",
              "1          0.2   9192\n",
              "2          0.2   3655\n",
              "3          0.2   3790\n",
              "4          0.2   4512\n",
              "5          0.2   3851\n",
              "1          0.5   7564\n",
              "2          0.5   2083\n",
              "3          0.5   2018\n",
              "4          0.5   3897\n",
              "5          0.5   9438\n",
              "1          0.8   6644\n",
              "2          0.8   1110\n",
              "3          0.8    715\n",
              "4          0.8   1499\n",
              "5          0.8  15032"
            ]
          },
          "execution_count": 14,
          "metadata": {},
          "output_type": "execute_result"
        }
      ],
      "source": [
        "step_by_step = step_by_step.reset_index().drop(['p80', 'SAR', 'size'], axis=1).set_index(['infections', 's80'])\n",
        "step_by_step"
      ]
    },
    {
      "cell_type": "markdown",
      "metadata": {
        "id": "KnzZR341zz72"
      },
      "source": [
        "Lastly, we use the magic of `unstack` to pivot our data. Essentially, we are taking the inner part of our index ($s_{80}$) and turning it into a group of columns by finding each row with the same value of $s_{80}$. This is a super useful operation that we use a lot."
      ]
    },
    {
      "cell_type": "code",
      "execution_count": 15,
      "metadata": {
        "colab": {
          "base_uri": "https://localhost:8080/",
          "height": 266
        },
        "id": "QSXCU6EjzuT_",
        "outputId": "26e05d06-e080-4d02-bd4e-cf1de0538b70"
      },
      "outputs": [
        {
          "data": {
            "text/html": [
              "<div>\n",
              "<style scoped>\n",
              "    .dataframe tbody tr th:only-of-type {\n",
              "        vertical-align: middle;\n",
              "    }\n",
              "\n",
              "    .dataframe tbody tr th {\n",
              "        vertical-align: top;\n",
              "    }\n",
              "\n",
              "    .dataframe thead tr th {\n",
              "        text-align: left;\n",
              "    }\n",
              "\n",
              "    .dataframe thead tr:last-of-type th {\n",
              "        text-align: right;\n",
              "    }\n",
              "</style>\n",
              "<table border=\"1\" class=\"dataframe\">\n",
              "  <thead>\n",
              "    <tr>\n",
              "      <th></th>\n",
              "      <th colspan=\"3\" halign=\"left\">count</th>\n",
              "    </tr>\n",
              "    <tr>\n",
              "      <th>s80</th>\n",
              "      <th>0.2</th>\n",
              "      <th>0.5</th>\n",
              "      <th>0.8</th>\n",
              "    </tr>\n",
              "    <tr>\n",
              "      <th>infections</th>\n",
              "      <th></th>\n",
              "      <th></th>\n",
              "      <th></th>\n",
              "    </tr>\n",
              "  </thead>\n",
              "  <tbody>\n",
              "    <tr>\n",
              "      <th>1</th>\n",
              "      <td>9192</td>\n",
              "      <td>7564</td>\n",
              "      <td>6644</td>\n",
              "    </tr>\n",
              "    <tr>\n",
              "      <th>2</th>\n",
              "      <td>3655</td>\n",
              "      <td>2083</td>\n",
              "      <td>1110</td>\n",
              "    </tr>\n",
              "    <tr>\n",
              "      <th>3</th>\n",
              "      <td>3790</td>\n",
              "      <td>2018</td>\n",
              "      <td>715</td>\n",
              "    </tr>\n",
              "    <tr>\n",
              "      <th>4</th>\n",
              "      <td>4512</td>\n",
              "      <td>3897</td>\n",
              "      <td>1499</td>\n",
              "    </tr>\n",
              "    <tr>\n",
              "      <th>5</th>\n",
              "      <td>3851</td>\n",
              "      <td>9438</td>\n",
              "      <td>15032</td>\n",
              "    </tr>\n",
              "  </tbody>\n",
              "</table>\n",
              "</div>"
            ],
            "text/plain": [
              "           count             \n",
              "s80          0.2   0.5    0.8\n",
              "infections                   \n",
              "1           9192  7564   6644\n",
              "2           3655  2083   1110\n",
              "3           3790  2018    715\n",
              "4           4512  3897   1499\n",
              "5           3851  9438  15032"
            ]
          },
          "execution_count": 15,
          "metadata": {},
          "output_type": "execute_result"
        }
      ],
      "source": [
        "step_by_step = step_by_step.unstack()\n",
        "step_by_step"
      ]
    },
    {
      "cell_type": "markdown",
      "metadata": {
        "id": "t3psLPTs0Xow"
      },
      "source": [
        "And now we drop the \"count\" label that's hovering over our columns so that pandas can make sense of our data."
      ]
    },
    {
      "cell_type": "code",
      "execution_count": 16,
      "metadata": {
        "colab": {
          "base_uri": "https://localhost:8080/",
          "height": 235
        },
        "id": "z3PRqBZn0TAJ",
        "outputId": "a367f340-5b97-43b2-a81c-76ec2756bd6f"
      },
      "outputs": [
        {
          "data": {
            "text/html": [
              "<div>\n",
              "<style scoped>\n",
              "    .dataframe tbody tr th:only-of-type {\n",
              "        vertical-align: middle;\n",
              "    }\n",
              "\n",
              "    .dataframe tbody tr th {\n",
              "        vertical-align: top;\n",
              "    }\n",
              "\n",
              "    .dataframe thead th {\n",
              "        text-align: right;\n",
              "    }\n",
              "</style>\n",
              "<table border=\"1\" class=\"dataframe\">\n",
              "  <thead>\n",
              "    <tr style=\"text-align: right;\">\n",
              "      <th>s80</th>\n",
              "      <th>0.2</th>\n",
              "      <th>0.5</th>\n",
              "      <th>0.8</th>\n",
              "    </tr>\n",
              "    <tr>\n",
              "      <th>infections</th>\n",
              "      <th></th>\n",
              "      <th></th>\n",
              "      <th></th>\n",
              "    </tr>\n",
              "  </thead>\n",
              "  <tbody>\n",
              "    <tr>\n",
              "      <th>1</th>\n",
              "      <td>9192</td>\n",
              "      <td>7564</td>\n",
              "      <td>6644</td>\n",
              "    </tr>\n",
              "    <tr>\n",
              "      <th>2</th>\n",
              "      <td>3655</td>\n",
              "      <td>2083</td>\n",
              "      <td>1110</td>\n",
              "    </tr>\n",
              "    <tr>\n",
              "      <th>3</th>\n",
              "      <td>3790</td>\n",
              "      <td>2018</td>\n",
              "      <td>715</td>\n",
              "    </tr>\n",
              "    <tr>\n",
              "      <th>4</th>\n",
              "      <td>4512</td>\n",
              "      <td>3897</td>\n",
              "      <td>1499</td>\n",
              "    </tr>\n",
              "    <tr>\n",
              "      <th>5</th>\n",
              "      <td>3851</td>\n",
              "      <td>9438</td>\n",
              "      <td>15032</td>\n",
              "    </tr>\n",
              "  </tbody>\n",
              "</table>\n",
              "</div>"
            ],
            "text/plain": [
              "s80          0.2   0.5    0.8\n",
              "infections                   \n",
              "1           9192  7564   6644\n",
              "2           3655  2083   1110\n",
              "3           3790  2018    715\n",
              "4           4512  3897   1499\n",
              "5           3851  9438  15032"
            ]
          },
          "execution_count": 16,
          "metadata": {},
          "output_type": "execute_result"
        }
      ],
      "source": [
        "step_by_step = step_by_step.droplevel(0, axis=1) # axis=1 because we are dropping a level from the **column** names\n",
        "step_by_step"
      ]
    },
    {
      "cell_type": "markdown",
      "metadata": {
        "id": "CQc60j3_Dl9J"
      },
      "source": [
        "For infectivities (another subpanel):"
      ]
    },
    {
      "cell_type": "code",
      "execution_count": 19,
      "metadata": {
        "colab": {
          "base_uri": "https://localhost:8080/",
          "height": 282
        },
        "id": "L9y2UkXuDnpa",
        "outputId": "58a39c10-bc73-4d29-d0a6-947da00d7a02"
      },
      "outputs": [
        {
          "data": {
            "image/png": "[encoded data removed]",
            "text/plain": [
              "<Figure size 640x480 with 1 Axes>"
            ]
          },
          "metadata": {},
          "output_type": "display_data"
        }
      ],
      "source": [
        "import matplotlib.pyplot as plt\n",
        "plt.rcParams.update({'font.size': 14,})\n",
        "basic_sequential_cmap = plt.get_cmap(\"Purples\")\n",
        "alt_cmap = plt.get_cmap(\"Oranges\")\n",
        "colors = [basic_sequential_cmap(x) for x in np.linspace(0.2, 0.7, 3)]\n",
        "colors[0] = [alt_cmap(x) for x in np.linspace(0.3, 0.6, 3)][SAR_color_index]\n",
        "\n",
        "# we group by the variables we aren't interested in plotting so that they'll be constant in the slice we look at\n",
        "grouping = ['s80', 'SAR', 'size']\n",
        "for key, group in results.df.groupby(grouping): # we perform the grouping and iterate over groups\n",
        "    group = group.rename(columns={0:'count'}) # I rename a mysterious column to make it more obvious. In future, this will be the default behavior!\n",
        "    # we make key_dict, a mapping from labels (ex. 'p80') to the value in the current group\n",
        "    key_dict = {label:key[i] for i,label in enumerate(grouping)}\n",
        "    # we skip values we're not interested in\n",
        "    if key_dict['s80'] != 0.8: continue\n",
        "    if key_dict['SAR'] != target_SAR: continue\n",
        "\n",
        "    # do some magic! (I'll explain down below)\n",
        "    restructured_group = group['count'].reset_index().drop(['s80', 'SAR', 'size'], axis=1).set_index(['infections', 'p80']).unstack()\n",
        "    restructured_group = restructured_group.droplevel(0, axis=1)\n",
        "    restructured_group = restructured_group / restructured_group.sum()\n",
        "    # switch the order of our columns because *decreasing* s80 corresponds with *adding* heterogeneity\n",
        "    switched_column_order = restructured_group[restructured_group.columns[::-1]]\n",
        "    ax = switched_column_order.plot.bar(color=colors)\n",
        "    break\n",
        "#ax.axes.yaxis.set_ticklabels([])\n",
        "ax.set_xlabel(\"Infections\")\n",
        "ax.set_ylabel(\"Frequency\")\n",
        "ax.set_ylim((0.0, 1.0))\n",
        "plt.savefig(\"different_p80s.pdf\", dpi=400)"
      ]
    },
    {
      "cell_type": "code",
      "execution_count": 18,
      "metadata": {},
      "outputs": [
        {
          "data": {
            "text/html": [
              "<div>\n",
              "<style scoped>\n",
              "    .dataframe tbody tr th:only-of-type {\n",
              "        vertical-align: middle;\n",
              "    }\n",
              "\n",
              "    .dataframe tbody tr th {\n",
              "        vertical-align: top;\n",
              "    }\n",
              "\n",
              "    .dataframe thead th {\n",
              "        text-align: right;\n",
              "    }\n",
              "</style>\n",
              "<table border=\"1\" class=\"dataframe\">\n",
              "  <thead>\n",
              "    <tr style=\"text-align: right;\">\n",
              "      <th>p80</th>\n",
              "      <th>0.2</th>\n",
              "      <th>0.5</th>\n",
              "      <th>0.8</th>\n",
              "    </tr>\n",
              "    <tr>\n",
              "      <th>infections</th>\n",
              "      <th></th>\n",
              "      <th></th>\n",
              "      <th></th>\n",
              "    </tr>\n",
              "  </thead>\n",
              "  <tbody>\n",
              "    <tr>\n",
              "      <th>1</th>\n",
              "      <td>0.44496</td>\n",
              "      <td>0.34492</td>\n",
              "      <td>0.26576</td>\n",
              "    </tr>\n",
              "    <tr>\n",
              "      <th>2</th>\n",
              "      <td>0.05444</td>\n",
              "      <td>0.05280</td>\n",
              "      <td>0.04440</td>\n",
              "    </tr>\n",
              "    <tr>\n",
              "      <th>3</th>\n",
              "      <td>0.02596</td>\n",
              "      <td>0.02816</td>\n",
              "      <td>0.02860</td>\n",
              "    </tr>\n",
              "    <tr>\n",
              "      <th>4</th>\n",
              "      <td>0.03268</td>\n",
              "      <td>0.04560</td>\n",
              "      <td>0.05996</td>\n",
              "    </tr>\n",
              "    <tr>\n",
              "      <th>5</th>\n",
              "      <td>0.44196</td>\n",
              "      <td>0.52852</td>\n",
              "      <td>0.60128</td>\n",
              "    </tr>\n",
              "  </tbody>\n",
              "</table>\n",
              "</div>"
            ],
            "text/plain": [
              "p80             0.2      0.5      0.8\n",
              "infections                           \n",
              "1           0.44496  0.34492  0.26576\n",
              "2           0.05444  0.05280  0.04440\n",
              "3           0.02596  0.02816  0.02860\n",
              "4           0.03268  0.04560  0.05996\n",
              "5           0.44196  0.52852  0.60128"
            ]
          },
          "execution_count": 18,
          "metadata": {},
          "output_type": "execute_result"
        }
      ],
      "source": [
        "restructured_group"
      ]
    },
    {
      "cell_type": "code",
      "execution_count": 19,
      "metadata": {
        "colab": {
          "base_uri": "https://localhost:8080/",
          "height": 282
        },
        "id": "gBEglvTXEGlK",
        "outputId": "6e265cb3-e251-4fc5-ff4c-d44db1feaae3"
      },
      "outputs": [
        {
          "data": {
            "image/png": "[encoded data removed]",
            "text/plain": [
              "<Figure size 432x288 with 1 Axes>"
            ]
          },
          "metadata": {
            "needs_background": "light"
          },
          "output_type": "display_data"
        }
      ],
      "source": [
        "import matplotlib.pyplot as plt\n",
        "plt.rcParams.update({'font.size': 14,})\n",
        "basic_sequential_cmap = plt.get_cmap(\"Oranges\")\n",
        "alt_cmap = plt.get_cmap(\"Oranges\")\n",
        "colors = [basic_sequential_cmap(x) for x in np.linspace(0.3, 0.6, 3)]\n",
        "\n",
        "# we group by the variables we aren't interested in plotting so that they'll be constant in the slice we look at\n",
        "grouping = ['s80', 'p80', 'size']\n",
        "for key, group in results.df.groupby(grouping): # we perform the grouping and iterate over groups\n",
        "    group = group.rename(columns={0:'count'}) # I rename a mysterious column to make it more obvious. In future, this will be the default behavior!\n",
        "    # we make key_dict, a mapping from labels (ex. 'p80') to the value in the current group\n",
        "    key_dict = {label:key[i] for i,label in enumerate(grouping)}\n",
        "    # we skip values we're not interested in\n",
        "    if key_dict['s80'] != 0.8: continue\n",
        "    if key_dict['p80'] != 0.8: continue\n",
        "\n",
        "    # do some magic! (I'll explain down below)\n",
        "    restructured_group = group['count'].reset_index().drop(['s80', 'p80', 'size'], axis=1).set_index(['infections', 'SAR']).unstack()\n",
        "    restructured_group = restructured_group.droplevel(0, axis=1)\n",
        "    restructured_group = restructured_group / restructured_group.sum()\n",
        "    # switch the order of our columns because *decreasing* s80 corresponds with *adding* heterogeneity\n",
        "    #switched_column_order = restructured_group[restructured_group.columns[::-1]]\n",
        "    ax = restructured_group.plot.bar(color=colors)\n",
        "    break\n",
        "#ax.axes.yaxis.set_ticklabels([])\n",
        "ax.set_xlabel(\"Infections\")\n",
        "ax.set_ylabel(\"Frequency\")\n",
        "ax.set_ylim((0.0, 1.0))\n",
        "plt.savefig(\"different_SARs.pdf\", dpi=400)"
      ]
    },
    {
      "cell_type": "code",
      "execution_count": 20,
      "metadata": {},
      "outputs": [
        {
          "data": {
            "text/html": [
              "<div>\n",
              "<style scoped>\n",
              "    .dataframe tbody tr th:only-of-type {\n",
              "        vertical-align: middle;\n",
              "    }\n",
              "\n",
              "    .dataframe tbody tr th {\n",
              "        vertical-align: top;\n",
              "    }\n",
              "\n",
              "    .dataframe thead th {\n",
              "        text-align: right;\n",
              "    }\n",
              "</style>\n",
              "<table border=\"1\" class=\"dataframe\">\n",
              "  <thead>\n",
              "    <tr style=\"text-align: right;\">\n",
              "      <th>SAR</th>\n",
              "      <th>0.1</th>\n",
              "      <th>0.2</th>\n",
              "      <th>0.3</th>\n",
              "    </tr>\n",
              "    <tr>\n",
              "      <th>infections</th>\n",
              "      <th></th>\n",
              "      <th></th>\n",
              "      <th></th>\n",
              "    </tr>\n",
              "  </thead>\n",
              "  <tbody>\n",
              "    <tr>\n",
              "      <th>1</th>\n",
              "      <td>0.65496</td>\n",
              "      <td>0.42056</td>\n",
              "      <td>0.26576</td>\n",
              "    </tr>\n",
              "    <tr>\n",
              "      <th>2</th>\n",
              "      <td>0.13296</td>\n",
              "      <td>0.08904</td>\n",
              "      <td>0.04440</td>\n",
              "    </tr>\n",
              "    <tr>\n",
              "      <th>3</th>\n",
              "      <td>0.07536</td>\n",
              "      <td>0.06152</td>\n",
              "      <td>0.02860</td>\n",
              "    </tr>\n",
              "    <tr>\n",
              "      <th>4</th>\n",
              "      <td>0.06616</td>\n",
              "      <td>0.09520</td>\n",
              "      <td>0.05996</td>\n",
              "    </tr>\n",
              "    <tr>\n",
              "      <th>5</th>\n",
              "      <td>0.07056</td>\n",
              "      <td>0.33368</td>\n",
              "      <td>0.60128</td>\n",
              "    </tr>\n",
              "  </tbody>\n",
              "</table>\n",
              "</div>"
            ],
            "text/plain": [
              "SAR             0.1      0.2      0.3\n",
              "infections                           \n",
              "1           0.65496  0.42056  0.26576\n",
              "2           0.13296  0.08904  0.04440\n",
              "3           0.07536  0.06152  0.02860\n",
              "4           0.06616  0.09520  0.05996\n",
              "5           0.07056  0.33368  0.60128"
            ]
          },
          "execution_count": 20,
          "metadata": {},
          "output_type": "execute_result"
        }
      ],
      "source": [
        "restructured_group"
      ]
    }
  ],
  "metadata": {
    "accelerator": "GPU",
    "colab": {
      "collapsed_sections": [],
      "name": "Covid Households - Forward Simulation Minimal Example.ipynb",
      "provenance": []
    },
    "kernelspec": {
      "display_name": "Python 3.10.6 ('.venv': poetry)",
      "language": "python",
      "name": "python3"
    },
    "language_info": {
      "codemirror_mode": {
        "name": "ipython",
        "version": 3
      },
      "file_extension": ".py",
      "mimetype": "text/x-python",
      "name": "python",
      "nbconvert_exporter": "python",
      "pygments_lexer": "ipython3",
      "version": "3.10.13"
    },
    "vscode": {
      "interpreter": {
        "hash": "6e0418455f80b5f7c07ffd089975cbf09b69b8ff5f9769ad65d5982a17cefd6f"
      }
    }
  },
  "nbformat": 4,
  "nbformat_minor": 0
}
